{
 "cells": [
  {
   "cell_type": "code",
   "execution_count": null,
   "metadata": {},
   "outputs": [],
   "source": [
    "import sys"
   ]
  },
  {
   "cell_type": "code",
   "execution_count": null,
   "metadata": {},
   "outputs": [],
   "source": [
    "!{sys.executable} -m pip install google-services-api"
   ]
  },
  {
   "cell_type": "code",
   "execution_count": null,
   "metadata": {},
   "outputs": [],
   "source": [
    "import json\n",
    "import pandas as pd\n",
    "from outscraper import ApiClient"
   ]
  },
  {
   "cell_type": "code",
   "execution_count": null,
   "metadata": {},
   "outputs": [],
   "source": [
    "!{sys.executable} -m pip install openpyxl"
   ]
  },
  {
   "cell_type": "code",
   "execution_count": null,
   "metadata": {},
   "outputs": [],
   "source": [
    "api_client = ApiClient(api_key='Z29vZ2xlLW9hdXRoMnwxMTE0OTA0MzI1MDM2NTczMTMwODl8NDc3MzA4N2MxNw')"
   ]
  },
  {
   "cell_type": "code",
   "execution_count": null,
   "metadata": {},
   "outputs": [],
   "source": [
    "result = api_client.google_maps_search('dallas hotels', limit=200, language='es')"
   ]
  },
  {
   "cell_type": "markdown",
   "metadata": {},
   "source": [
    "result = api_client.google_maps_search([\n",
    "    '75219 hotel',\n",
    "    '75225 hotel',\n",
    "    '75226 hotel',\n",
    "    '75230 hotel'\n",
    "], language='es')"
   ]
  },
  {
   "cell_type": "code",
   "execution_count": null,
   "metadata": {},
   "outputs": [],
   "source": [
    "\n",
    "for i in result:\n",
    "    df_table = pd.DataFrame(i)"
   ]
  },
  {
   "cell_type": "code",
   "execution_count": null,
   "metadata": {},
   "outputs": [],
   "source": [
    "df_table"
   ]
  },
  {
   "cell_type": "code",
   "execution_count": null,
   "metadata": {},
   "outputs": [],
   "source": [
    "for i in range(50):\n",
    "    try:\n",
    "        df_table.drop(f'reviews_per_score_{i}', axis =1, inplace=True)\n",
    "    except KeyError:\n",
    "        continue"
   ]
  },
  {
   "cell_type": "code",
   "execution_count": null,
   "metadata": {},
   "outputs": [],
   "source": [
    "df_table.drop(f'reviews_per_score', axis=1, inplace=True)\n",
    "df_table.drop(f'full_address', axis=1, inplace=True)\n",
    "df_table.drop(f'borough', axis=1, inplace=True)\n",
    "df_table.drop(f'country', axis=1, inplace=True)\n",
    "df_table.drop(f'owner_id', axis=1, inplace=True)\n",
    "df_table.drop(f'owner_link', axis=1, inplace=True)\n",
    "df_table.drop(f'location_link', axis=1, inplace=True)\n",
    "df_table.drop(f'owner_title', axis=1, inplace=True)\n",
    "df_table.drop(f'menu_link', axis=1, inplace=True)\n",
    "df_table.drop(f'order_links', axis=1, inplace=True)\n",
    "df_table.drop(f'reservation_links', axis=1, inplace=True)\n",
    "df_table.drop(f'working_hours', axis=1, inplace=True)\n",
    "df_table.drop(f'working_hours_old_format', axis=1, inplace=True)\n",
    "df_table.drop(f'about', axis=1, inplace=True)\n",
    "df_table.drop(f'range', axis=1, inplace=True)\n",
    "df_table.drop(f'plus_code', axis=1, inplace=True)\n",
    "df_table.drop(f'latitude', axis=1, inplace=True)\n",
    "df_table.drop(f'us_state', axis=1, inplace=True)\n"
   ]
  },
  {
   "cell_type": "code",
   "execution_count": null,
   "metadata": {},
   "outputs": [],
   "source": [
    "df_table.drop(f'longitude', axis=1, inplace=True)\n",
    "df_table.drop(f'time_zone', axis=1, inplace=True)\n",
    "df_table.drop(f'popular_times', axis=1, inplace=True)\n",
    "df_table.drop(f'google_id', axis=1, inplace=True)\n",
    "df_table.drop(f'place_id', axis=1, inplace=True)\n",
    "df_table.drop(f'cid', axis=1, inplace=True)\n",
    "df_table.drop(f'reviews_link', axis=1, inplace=True)\n",
    "df_table.drop(f'reviews_id', axis=1, inplace=True)\n",
    "df_table.drop(f'photo', axis=1, inplace=True)\n",
    "df_table.drop(f'street_view', axis=1, inplace=True)\n",
    "df_table.drop(f'booking_appointment_link', axis=1, inplace=True)"
   ]
  },
  {
   "cell_type": "code",
   "execution_count": null,
   "metadata": {},
   "outputs": [],
   "source": [
    "df_table.drop(f'type', axis=1, inplace=True)\n",
    "df_table.drop(f'located_google_id', axis=1, inplace=True)\n",
    "df_table.drop(f'category', axis=1, inplace=True)\n",
    "df_table.drop(f'subtypes', axis=1, inplace=True)\n",
    "df_table.drop(f'posts', axis=1, inplace=True)\n",
    "df_table.drop(f'reviews', axis=1, inplace=True)\n",
    "df_table.drop(f'reviews_data', axis=1, inplace=True)\n",
    "df_table.drop(f'reviews_tags', axis=1, inplace=True)\n",
    "df_table.drop(f'rating', axis=1, inplace=True)\n",
    "df_table.drop(f'photos_count', axis=1, inplace=True)"
   ]
  },
  {
   "cell_type": "code",
   "execution_count": null,
   "metadata": {},
   "outputs": [],
   "source": [
    "df_table.drop(f'logo', axis=1, inplace=True)\n",
    "df_table.drop(f'description', axis=1, inplace=True)\n",
    "df_table.drop(f'located_in', axis=1, inplace=True)"
   ]
  },
  {
   "cell_type": "code",
   "execution_count": null,
   "metadata": {},
   "outputs": [],
   "source": [
    "df_table.drop(f'query', axis=1, inplace=True)"
   ]
  },
  {
   "cell_type": "code",
   "execution_count": null,
   "metadata": {},
   "outputs": [],
   "source": [
    "df_reordered = df_table.reindex(columns=['name','street','city','state','country_code','postal_code','phone','site','business_status','verified'])"
   ]
  },
  {
   "cell_type": "code",
   "execution_count": null,
   "metadata": {},
   "outputs": [],
   "source": [
    "df_reordered.insert(1, 'nombre', '')\n",
    "df_reordered.insert(2, 'apellido', '')\n",
    "df_reordered.insert(3, 'cargo', '')\n",
    "df_reordered.insert(10, 'telefono directo', '')\n",
    "df_reordered.insert(11, 'correo', '')\n",
    "df_reordered.insert(12, 'correo directo', '')\n",
    "df_reordered.insert(14, 'facebook', '')\n",
    "df_reordered.insert(15, 'instagram', '')\n",
    "df_reordered.insert(16, 'linkedin', '')\n",
    "df_reordered.insert(17, 'twitter', '')"
   ]
  },
  {
   "cell_type": "code",
   "execution_count": null,
   "metadata": {},
   "outputs": [],
   "source": [
    "df_reordered = df_reordered.sort_values('postal_code')"
   ]
  },
  {
   "cell_type": "code",
   "execution_count": null,
   "metadata": {},
   "outputs": [],
   "source": [
    "df_reordered"
   ]
  },
  {
   "cell_type": "code",
   "execution_count": null,
   "metadata": {},
   "outputs": [],
   "source": [
    "webs = df_reordered['site'].values"
   ]
  },
  {
   "cell_type": "code",
   "execution_count": null,
   "metadata": {},
   "outputs": [],
   "source": [
    "n=28\n",
    "\n",
    "fractioned_list = [webs[i:i + n] for i in range(0, len(webs), n)]"
   ]
  },
  {
   "cell_type": "code",
   "execution_count": null,
   "metadata": {},
   "outputs": [],
   "source": [
    "webs_1 = fractioned_list[0]\n",
    "webs_2 = fractioned_list[1]\n",
    "webs_3 = fractioned_list[2]\n",
    "webs_4 = fractioned_list[3]\n",
    "webs_5 = fractioned_list[4]\n",
    "webs_6 = fractioned_list[5]\n",
    "webs_7 = fractioned_list[6]\n",
    "# webs_8 = fractioned_list[7]\n",
    "# webs_9 = fractioned_list[8]\n",
    "# webs_7 = fractioned_list[6]\n",
    "# webs_10 = fractioned_list[9]\n",
    "# webs_11 = fractioned_list[10]\n",
    "# webs_12 = fractioned_list[11]\n",
    "# webs_13 = fractioned_list[12]\n",
    "# webs_14 = fractioned_list[13]"
   ]
  },
  {
   "cell_type": "code",
   "execution_count": null,
   "metadata": {},
   "outputs": [],
   "source": [
    "webs_3"
   ]
  },
  {
   "cell_type": "code",
   "execution_count": null,
   "metadata": {},
   "outputs": [],
   "source": [
    "api_client = ApiClient(api_key='Z29vZ2xlLW9hdXRoMnwxMTE0OTA0MzI1MDM2NTczMTMwODl8NDc3MzA4N2MxNw')"
   ]
  },
  {
   "cell_type": "code",
   "execution_count": null,
   "metadata": {},
   "outputs": [],
   "source": [
    "# Search for businesses in specific locations:\n",
    "contacts_1 = api_client.emails_and_contacts(webs_1)\n",
    "contacts_2 = api_client.emails_and_contacts(webs_2)\n",
    "contacts_3 = api_client.emails_and_contacts(webs_3)\n",
    "contacts_4 = api_client.emails_and_contacts(webs_4)\n",
    "contacts_5 = api_client.emails_and_contacts(webs_5)\n",
    "contacts_6 = api_client.emails_and_contacts(webs_6)\n",
    "contacts_7 = api_client.emails_and_contacts(webs_7)\n",
    "# contacts_8 = api_client.emails_and_contacts(webs_8)\n",
    "# contacts_9 = api_client.emails_and_contacts(webs_9)\n",
    "# contacts_10 = api_client.emails_and_contacts(webs_10)\n",
    "# contacts_11 = api_client.emails_and_contacts(webs_11)\n",
    "# contacts_12 = api_client.emails_and_contacts(webs_12)\n",
    "# contacts_13 = api_client.emails_and_contacts(webs_13)\n",
    "# contacts_14 = api_client.emails_and_contacts(webs_14)"
   ]
  },
  {
   "cell_type": "code",
   "execution_count": null,
   "metadata": {},
   "outputs": [],
   "source": [
    "df_contacts_1 = pd.json_normalize(contacts_1)\n",
    "df_contacts_2 = pd.json_normalize(contacts_2)\n",
    "df_contacts_3 = pd.json_normalize(contacts_3)\n",
    "df_contacts_4 = pd.json_normalize(contacts_4)\n",
    "df_contacts_5 = pd.json_normalize(contacts_5)\n",
    "df_contacts_6 = pd.json_normalize(contacts_6)\n",
    "df_contacts_7 = pd.json_normalize(contacts_7)"
   ]
  },
  {
   "cell_type": "code",
   "execution_count": null,
   "metadata": {},
   "outputs": [],
   "source": [
    "df_contacts = pd.concat([df_contacts_1, df_contacts_2, df_contacts_3, df_contacts_4, df_contacts_5, df_contacts_6], axis=0)"
   ]
  },
  {
   "cell_type": "code",
   "execution_count": null,
   "metadata": {},
   "outputs": [],
   "source": [
    "df_contacts"
   ]
  },
  {
   "cell_type": "code",
   "execution_count": null,
   "metadata": {},
   "outputs": [],
   "source": [
    "w = df_contacts['emails'].apply(pd.Series)\n",
    "x = w.apply(pd.Series)\n",
    "\n",
    "def contact_generator(x):\n",
    "    for column in x:\n",
    "        y = pd.json_normalize(x[column].values)\n",
    "        yield y\n",
    "\n",
    "contact_generator = contact_generator(x)\n",
    "\n",
    "z = next(contact_generator)\n",
    "a = contact_generator.__next__()\n",
    "b = contact_generator.__next__()\n",
    "c = contact_generator.__next__()\n",
    "d = contact_generator.__next__()\n",
    "e = contact_generator.__next__()\n",
    "f = contact_generator.__next__()\n",
    "g = contact_generator.__next__()\n",
    "h = contact_generator.__next__()\n",
    "i = contact_generator.__next__()\n",
    "j = contact_generator.__next__()\n",
    "k = contact_generator.__next__()\n",
    "l = contact_generator.__next__()\n",
    "m = contact_generator.__next__()\n",
    "ñ = contact_generator.__next__()\n",
    "o = contact_generator.__next__()\n",
    "p = contact_generator.__next__()\n",
    "q = contact_generator.__next__()\n",
    "r = contact_generator.__next__()\n",
    "s = contact_generator.__next__()\n",
    "t = contact_generator.__next__()\n",
    "\n",
    "df_emails = pd.concat([a, b, c, d, e, f, g, h, i, j, k, l, m, ñ, o, p, q, r, s, t], axis = 1)\n"
   ]
  },
  {
   "cell_type": "code",
   "execution_count": null,
   "metadata": {},
   "outputs": [],
   "source": [
    "df_emails.drop(f'sources', axis=1, inplace=True)"
   ]
  },
  {
   "cell_type": "code",
   "execution_count": null,
   "metadata": {},
   "outputs": [],
   "source": [
    "df_emails = pd.DataFrame(df_emails)"
   ]
  },
  {
   "cell_type": "code",
   "execution_count": null,
   "metadata": {},
   "outputs": [],
   "source": [
    "df_emails.rename({'value':'email'}, axis='columns', inplace=True)"
   ]
  },
  {
   "cell_type": "code",
   "execution_count": null,
   "metadata": {},
   "outputs": [],
   "source": [
    "w = df_contacts['external_emails'].apply(pd.Series)\n",
    "x = w.apply(pd.Series)\n",
    "\n",
    "def contact_generator(x):\n",
    "    for column in x:\n",
    "        y = pd.json_normalize(x[column].values)\n",
    "        yield y\n",
    "\n",
    "contact_generator = contact_generator(x)\n",
    "\n",
    "z = next(contact_generator)\n",
    "a = contact_generator.__next__()\n",
    "b = contact_generator.__next__()\n",
    "c = contact_generator.__next__()\n",
    "d = contact_generator.__next__()\n",
    "e = contact_generator.__next__()\n",
    "f = contact_generator.__next__()\n",
    "g = contact_generator.__next__()\n",
    "h = contact_generator.__next__()\n",
    "i = contact_generator.__next__()\n",
    "\n",
    "\n",
    "df_external_emails = pd.concat([a, b, c, d, e, f, g, h, i], axis = 1)"
   ]
  },
  {
   "cell_type": "code",
   "execution_count": null,
   "metadata": {},
   "outputs": [],
   "source": [
    "df_external_emails.drop(f'sources', axis=1, inplace=True)"
   ]
  },
  {
   "cell_type": "code",
   "execution_count": null,
   "metadata": {},
   "outputs": [],
   "source": [
    "df_external_emails = pd.DataFrame(df_external_emails)"
   ]
  },
  {
   "cell_type": "code",
   "execution_count": null,
   "metadata": {},
   "outputs": [],
   "source": [
    "df_external_emails.rename({'value':'external_email'}, axis='columns', inplace=True)"
   ]
  },
  {
   "cell_type": "code",
   "execution_count": null,
   "metadata": {},
   "outputs": [],
   "source": [
    "w = df_contacts['phones'].apply(pd.Series)\n",
    "x = w.apply(pd.Series)\n",
    "\n",
    "def contact_generator(x):\n",
    "    for column in x:\n",
    "        y = pd.json_normalize(x[column].values)\n",
    "        yield y\n",
    "\n",
    "contact_generator = contact_generator(x)\n",
    "\n",
    "z = next(contact_generator)\n",
    "a = contact_generator.__next__()\n",
    "b = contact_generator.__next__()\n",
    "c = contact_generator.__next__()\n",
    "d = contact_generator.__next__()\n",
    "e = contact_generator.__next__()\n",
    "f = contact_generator.__next__()\n",
    "g = contact_generator.__next__()\n",
    "h = contact_generator.__next__()\n",
    "i = contact_generator.__next__()\n",
    "\n",
    "\n",
    "df_phones = pd.concat([a, b, c, d, e, f, g, h, i, j], axis = 1)"
   ]
  },
  {
   "cell_type": "code",
   "execution_count": null,
   "metadata": {},
   "outputs": [],
   "source": [
    "df_phones.drop(f'sources', axis=1, inplace=True)"
   ]
  },
  {
   "cell_type": "code",
   "execution_count": null,
   "metadata": {},
   "outputs": [],
   "source": [
    "df_phones = pd.DataFrame(df_phones)"
   ]
  },
  {
   "cell_type": "code",
   "execution_count": null,
   "metadata": {},
   "outputs": [],
   "source": [
    "df_phones.rename({'value':'Phone'}, axis='columns', inplace=True)"
   ]
  },
  {
   "cell_type": "code",
   "execution_count": null,
   "metadata": {},
   "outputs": [],
   "source": [
    "df_reordered.reset_index(inplace=True, drop=True)\n",
    "df_contacts.reset_index(inplace=True, drop=True)\n",
    "df_emails.reset_index(inplace=True, drop=True)\n",
    "df_external_emails.reset_index(inplace=True, drop=True)\n",
    "df_phones.reset_index(inplace=True, drop=True)"
   ]
  },
  {
   "cell_type": "code",
   "execution_count": null,
   "metadata": {},
   "outputs": [],
   "source": [
    "df_contacts = pd.concat([df_contacts, df_emails, df_external_emails, df_phones], axis=1)"
   ]
  },
  {
   "cell_type": "code",
   "execution_count": null,
   "metadata": {},
   "outputs": [],
   "source": [
    "df_contacts.drop(f'emails', axis=1, inplace=True)\n",
    "df_contacts.drop(f'external_emails', axis=1, inplace=True)\n",
    "df_contacts.drop(f'phones', axis=1, inplace=True)\n",
    "df_contacts.drop(f'query', axis=1, inplace=True)\n",
    "df_contacts.drop(f'site_data.description', axis=1, inplace=True)\n",
    "df_contacts.drop(f'site_data.keywords', axis=1, inplace=True)\n",
    "df_contacts.drop(f'site_data.title', axis=1, inplace=True)"
   ]
  },
  {
   "cell_type": "code",
   "execution_count": null,
   "metadata": {},
   "outputs": [],
   "source": [
    "df_contacts.drop(f'site_data.generator',axis=1, inplace=True)\n",
    "df_contacts.drop(f'socials.yelp',axis=1, inplace=True)"
   ]
  },
  {
   "cell_type": "code",
   "execution_count": null,
   "metadata": {},
   "outputs": [],
   "source": [
    "df_contacts"
   ]
  },
  {
   "cell_type": "code",
   "execution_count": null,
   "metadata": {},
   "outputs": [],
   "source": [
    "df_hotels_contacts = pd.concat([df_reordered, df_contacts], axis=1)"
   ]
  },
  {
   "cell_type": "code",
   "execution_count": null,
   "metadata": {},
   "outputs": [],
   "source": [
    "df_hotels_contacts"
   ]
  },
  {
   "cell_type": "code",
   "execution_count": null,
   "metadata": {},
   "outputs": [],
   "source": [
    "df_hotels_contacts.to_excel('hoteles_mas_contactos.xlsx', index=False, encoding='UTF-8')"
   ]
  }
 ],
 "metadata": {
  "interpreter": {
   "hash": "fda5a78e1d2cb5079f554e09a7735630958dbb249472f5b96429f07aa47285e6"
  },
  "kernelspec": {
   "display_name": "Python 3.10.4 ('betaProjects')",
   "language": "python",
   "name": "python3"
  },
  "language_info": {
   "codemirror_mode": {
    "name": "ipython",
    "version": 3
   },
   "file_extension": ".py",
   "mimetype": "text/x-python",
   "name": "python",
   "nbconvert_exporter": "python",
   "pygments_lexer": "ipython3",
   "version": "3.10.4"
  },
  "orig_nbformat": 4
 },
 "nbformat": 4,
 "nbformat_minor": 2
}
