{
 "cells": [
  {
   "cell_type": "code",
   "execution_count": null,
   "metadata": {},
   "outputs": [],
   "source": [
    "import sys"
   ]
  },
  {
   "cell_type": "code",
   "execution_count": null,
   "metadata": {},
   "outputs": [],
   "source": [
    "!{sys.executable} -m pip install google-services-api"
   ]
  },
  {
   "cell_type": "code",
   "execution_count": null,
   "metadata": {},
   "outputs": [],
   "source": [
    "import json\n",
    "import pandas as pd\n",
    "from outscraper import ApiClient"
   ]
  },
  {
   "cell_type": "code",
   "execution_count": null,
   "metadata": {},
   "outputs": [],
   "source": [
    "!{sys.executable} -m pip install openpyxl"
   ]
  },
  {
   "cell_type": "code",
   "execution_count": null,
   "metadata": {},
   "outputs": [],
   "source": [
    "api_client = ApiClient(api_key='Z29vZ2xlLW9hdXRoMnwxMTE0OTA0MzI1MDM2NTczMTMwODl8NDc3MzA4N2MxNw')"
   ]
  },
  {
   "cell_type": "markdown",
   "metadata": {},
   "source": [
    "# result = api_client.google_maps_search('dallas restaurants', limit=200, language='es')"
   ]
  },
  {
   "cell_type": "code",
   "execution_count": null,
   "metadata": {},
   "outputs": [],
   "source": [
    "result = api_client.google_maps_search([\n",
    "    '75219 hotels',\n",
    "    '75225 hotels',\n",
    "    '75226 hotels',\n",
    "    '75230 hotels'\n",
    "], language='es')"
   ]
  },
  {
   "cell_type": "code",
   "execution_count": null,
   "metadata": {},
   "outputs": [],
   "source": [
    "for i in result:\n",
    "    df_table = pd.DataFrame(i)"
   ]
  },
  {
   "cell_type": "code",
   "execution_count": null,
   "metadata": {},
   "outputs": [],
   "source": [
    "df_table"
   ]
  },
  {
   "cell_type": "code",
   "execution_count": null,
   "metadata": {},
   "outputs": [],
   "source": [
    "for i in range(50):\n",
    "    try:\n",
    "        df_table.drop(f'reviews_per_score_{i}', axis =1, inplace=True)\n",
    "    except KeyError:\n",
    "        continue"
   ]
  },
  {
   "cell_type": "code",
   "execution_count": null,
   "metadata": {},
   "outputs": [],
   "source": [
    "df_table.drop(f'reviews_per_score', axis=1, inplace=True)\n",
    "df_table.drop(f'full_address', axis=1, inplace=True)\n",
    "df_table.drop(f'borough', axis=1, inplace=True)\n",
    "df_table.drop(f'country', axis=1, inplace=True)\n",
    "df_table.drop(f'owner_id', axis=1, inplace=True)\n",
    "df_table.drop(f'owner_link', axis=1, inplace=True)\n",
    "df_table.drop(f'location_link', axis=1, inplace=True)\n",
    "df_table.drop(f'owner_title', axis=1, inplace=True)\n",
    "df_table.drop(f'menu_link', axis=1, inplace=True)\n",
    "df_table.drop(f'order_links', axis=1, inplace=True)\n",
    "df_table.drop(f'reservation_links', axis=1, inplace=True)\n",
    "df_table.drop(f'working_hours', axis=1, inplace=True)\n",
    "df_table.drop(f'working_hours_old_format', axis=1, inplace=True)\n",
    "df_table.drop(f'about', axis=1, inplace=True)\n",
    "df_table.drop(f'range', axis=1, inplace=True)\n",
    "df_table.drop(f'plus_code', axis=1, inplace=True)\n",
    "df_table.drop(f'latitude', axis=1, inplace=True)\n",
    "df_table.drop(f'us_state', axis=1, inplace=True)\n"
   ]
  },
  {
   "cell_type": "code",
   "execution_count": null,
   "metadata": {},
   "outputs": [],
   "source": [
    "df_table.drop(f'longitude', axis=1, inplace=True)\n",
    "df_table.drop(f'time_zone', axis=1, inplace=True)\n",
    "df_table.drop(f'popular_times', axis=1, inplace=True)\n",
    "df_table.drop(f'google_id', axis=1, inplace=True)\n",
    "df_table.drop(f'place_id', axis=1, inplace=True)\n",
    "df_table.drop(f'cid', axis=1, inplace=True)\n",
    "df_table.drop(f'reviews_link', axis=1, inplace=True)\n",
    "df_table.drop(f'reviews_id', axis=1, inplace=True)\n",
    "df_table.drop(f'photo', axis=1, inplace=True)\n",
    "df_table.drop(f'street_view', axis=1, inplace=True)\n",
    "df_table.drop(f'booking_appointment_link', axis=1, inplace=True)"
   ]
  },
  {
   "cell_type": "code",
   "execution_count": null,
   "metadata": {},
   "outputs": [],
   "source": [
    "df_table.drop(f'type', axis=1, inplace=True)\n",
    "df_table.drop(f'located_google_id', axis=1, inplace=True)\n",
    "df_table.drop(f'category', axis=1, inplace=True)\n",
    "df_table.drop(f'subtypes', axis=1, inplace=True)\n",
    "df_table.drop(f'posts', axis=1, inplace=True)\n",
    "df_table.drop(f'reviews', axis=1, inplace=True)\n",
    "df_table.drop(f'reviews_data', axis=1, inplace=True)\n",
    "df_table.drop(f'reviews_tags', axis=1, inplace=True)\n",
    "df_table.drop(f'rating', axis=1, inplace=True)\n",
    "df_table.drop(f'photos_count', axis=1, inplace=True)"
   ]
  },
  {
   "cell_type": "code",
   "execution_count": null,
   "metadata": {},
   "outputs": [],
   "source": [
    "df_table.drop(f'logo', axis=1, inplace=True)\n",
    "df_table.drop(f'description', axis=1, inplace=True)\n",
    "df_table.drop(f'located_in', axis=1, inplace=True)"
   ]
  },
  {
   "cell_type": "code",
   "execution_count": null,
   "metadata": {},
   "outputs": [],
   "source": [
    "df_table.drop(f'query', axis=1, inplace=True)"
   ]
  },
  {
   "cell_type": "code",
   "execution_count": null,
   "metadata": {},
   "outputs": [],
   "source": [
    "df_reordered = df_table.reindex(columns=['name','street','city','state','country_code','postal_code','phone','site','business_status','verified'])"
   ]
  },
  {
   "cell_type": "code",
   "execution_count": null,
   "metadata": {},
   "outputs": [],
   "source": [
    "df_reordered.insert(1, 'nombre', '')\n",
    "df_reordered.insert(2, 'apellido', '')\n",
    "df_reordered.insert(3, 'cargo', '')\n",
    "df_reordered.insert(11, 'facebook', '')\n",
    "df_reordered.insert(12, 'instagram', '')\n",
    "df_reordered.insert(13, 'linkedin', '')\n",
    "df_reordered.insert(14, 'twitter', '')"
   ]
  },
  {
   "cell_type": "code",
   "execution_count": null,
   "metadata": {},
   "outputs": [],
   "source": [
    "df_reordered"
   ]
  },
  {
   "cell_type": "code",
   "execution_count": null,
   "metadata": {},
   "outputs": [],
   "source": [
    "df_reordered.to_excel('hoteles.xlsx', index=False, encoding='UTF-8')"
   ]
  }
 ],
 "metadata": {
  "interpreter": {
   "hash": "fda5a78e1d2cb5079f554e09a7735630958dbb249472f5b96429f07aa47285e6"
  },
  "kernelspec": {
   "display_name": "Python 3.10.4 ('betaProjects')",
   "language": "python",
   "name": "python3"
  },
  "language_info": {
   "codemirror_mode": {
    "name": "ipython",
    "version": 3
   },
   "file_extension": ".py",
   "mimetype": "text/x-python",
   "name": "python",
   "nbconvert_exporter": "python",
   "pygments_lexer": "ipython3",
   "version": "3.10.4"
  },
  "orig_nbformat": 4
 },
 "nbformat": 4,
 "nbformat_minor": 2
}
