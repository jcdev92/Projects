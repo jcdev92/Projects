{
 "cells": [
  {
   "cell_type": "code",
   "execution_count": null,
   "metadata": {},
   "outputs": [],
   "source": [
    "from selenium import webdriver\n",
    "import pandas as pd"
   ]
  },
  {
   "cell_type": "code",
   "execution_count": null,
   "metadata": {},
   "outputs": [],
   "source": [
    "path = './chromedriver'\n",
    "web = 'https://www.audible.com/search'"
   ]
  },
  {
   "cell_type": "code",
   "execution_count": null,
   "metadata": {},
   "outputs": [],
   "source": [
    "driver = webdriver.Chrome(path)\n",
    "driver.get(web)"
   ]
  },
  {
   "cell_type": "code",
   "execution_count": null,
   "metadata": {},
   "outputs": [],
   "source": [
    "container = driver.find_element_by_class_name(\"adbl-impression-container\")\n",
    "products = container.find_elements_by_xpath('./li')"
   ]
  },
  {
   "cell_type": "code",
   "execution_count": null,
   "metadata": {},
   "outputs": [],
   "source": [
    "book_title = [product.find_elements_by_xpath('.//h3[contains(@class, \"bc-heading\")]').text for product in products]\n",
    "book_author = [product.find_elements_by_xpath('.//li[contains(@class, \"authorLabel\")]').text for product in products]\n",
    "book_length = [product.find_elements_by_xpath('//li[contains(@class, \"runtimeLabel\")]').text for product in products]"
   ]
  },
  {
   "cell_type": "code",
   "execution_count": null,
   "metadata": {},
   "outputs": [],
   "source": [
    "driver.quit()"
   ]
  },
  {
   "cell_type": "code",
   "execution_count": null,
   "metadata": {},
   "outputs": [],
   "source": [
    "df_books = pd.DataFrame({'Title': book_title, 'Author': book_author, 'length': book_length})\n",
    "\n",
    "df_books.to_csv('books.csv', index= False)"
   ]
  }
 ],
 "metadata": {
  "interpreter": {
   "hash": "430462293bab4d9c55e256554f363a2bd131c40879eb40597ce1446ecc7e802d"
  },
  "kernelspec": {
   "display_name": "Python 3.10.4 ('webscraper')",
   "language": "python",
   "name": "python3"
  },
  "language_info": {
   "codemirror_mode": {
    "name": "ipython",
    "version": 3
   },
   "file_extension": ".py",
   "mimetype": "text/x-python",
   "name": "python",
   "nbconvert_exporter": "python",
   "pygments_lexer": "ipython3",
   "version": "3.10.4"
  },
  "orig_nbformat": 4
 },
 "nbformat": 4,
 "nbformat_minor": 2
}
