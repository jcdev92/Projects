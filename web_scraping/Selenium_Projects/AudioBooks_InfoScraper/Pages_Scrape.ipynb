{
 "cells": [
  {
   "cell_type": "code",
   "execution_count": 1,
   "metadata": {},
   "outputs": [],
   "source": [
    "from selenium import webdriver\n",
    "import pandas as pd"
   ]
  },
  {
   "cell_type": "code",
   "execution_count": 2,
   "metadata": {},
   "outputs": [],
   "source": [
    "path = './chromedriver'\n",
    "web = 'https://www.audible.com/search'"
   ]
  },
  {
   "cell_type": "code",
   "execution_count": 3,
   "metadata": {},
   "outputs": [
    {
     "ename": "WebDriverException",
     "evalue": "Message: 'chromedriver' executable may have wrong permissions. Please see https://sites.google.com/a/chromium.org/chromedriver/home\n",
     "output_type": "error",
     "traceback": [
      "\u001b[0;31m---------------------------------------------------------------------------\u001b[0m",
      "\u001b[0;31mPermissionError\u001b[0m                           Traceback (most recent call last)",
      "File \u001b[0;32m~/anaconda3/envs/webscraper/lib/python3.10/site-packages/selenium/webdriver/common/service.py:72\u001b[0m, in \u001b[0;36mService.start\u001b[0;34m(self)\u001b[0m\n\u001b[1;32m     <a href='file:///home/gordo/anaconda3/envs/webscraper/lib/python3.10/site-packages/selenium/webdriver/common/service.py?line=70'>71</a>\u001b[0m     cmd\u001b[39m.\u001b[39mextend(\u001b[39mself\u001b[39m\u001b[39m.\u001b[39mcommand_line_args())\n\u001b[0;32m---> <a href='file:///home/gordo/anaconda3/envs/webscraper/lib/python3.10/site-packages/selenium/webdriver/common/service.py?line=71'>72</a>\u001b[0m     \u001b[39mself\u001b[39m\u001b[39m.\u001b[39mprocess \u001b[39m=\u001b[39m subprocess\u001b[39m.\u001b[39;49mPopen(cmd, env\u001b[39m=\u001b[39;49m\u001b[39mself\u001b[39;49m\u001b[39m.\u001b[39;49menv,\n\u001b[1;32m     <a href='file:///home/gordo/anaconda3/envs/webscraper/lib/python3.10/site-packages/selenium/webdriver/common/service.py?line=72'>73</a>\u001b[0m                                     close_fds\u001b[39m=\u001b[39;49mplatform\u001b[39m.\u001b[39;49msystem() \u001b[39m!=\u001b[39;49m \u001b[39m'\u001b[39;49m\u001b[39mWindows\u001b[39;49m\u001b[39m'\u001b[39;49m,\n\u001b[1;32m     <a href='file:///home/gordo/anaconda3/envs/webscraper/lib/python3.10/site-packages/selenium/webdriver/common/service.py?line=73'>74</a>\u001b[0m                                     stdout\u001b[39m=\u001b[39;49m\u001b[39mself\u001b[39;49m\u001b[39m.\u001b[39;49mlog_file,\n\u001b[1;32m     <a href='file:///home/gordo/anaconda3/envs/webscraper/lib/python3.10/site-packages/selenium/webdriver/common/service.py?line=74'>75</a>\u001b[0m                                     stderr\u001b[39m=\u001b[39;49m\u001b[39mself\u001b[39;49m\u001b[39m.\u001b[39;49mlog_file,\n\u001b[1;32m     <a href='file:///home/gordo/anaconda3/envs/webscraper/lib/python3.10/site-packages/selenium/webdriver/common/service.py?line=75'>76</a>\u001b[0m                                     stdin\u001b[39m=\u001b[39;49mPIPE)\n\u001b[1;32m     <a href='file:///home/gordo/anaconda3/envs/webscraper/lib/python3.10/site-packages/selenium/webdriver/common/service.py?line=76'>77</a>\u001b[0m \u001b[39mexcept\u001b[39;00m \u001b[39mTypeError\u001b[39;00m:\n",
      "File \u001b[0;32m~/anaconda3/envs/webscraper/lib/python3.10/subprocess.py:966\u001b[0m, in \u001b[0;36mPopen.__init__\u001b[0;34m(self, args, bufsize, executable, stdin, stdout, stderr, preexec_fn, close_fds, shell, cwd, env, universal_newlines, startupinfo, creationflags, restore_signals, start_new_session, pass_fds, user, group, extra_groups, encoding, errors, text, umask, pipesize)\u001b[0m\n\u001b[1;32m    <a href='file:///home/gordo/anaconda3/envs/webscraper/lib/python3.10/subprocess.py?line=962'>963</a>\u001b[0m             \u001b[39mself\u001b[39m\u001b[39m.\u001b[39mstderr \u001b[39m=\u001b[39m io\u001b[39m.\u001b[39mTextIOWrapper(\u001b[39mself\u001b[39m\u001b[39m.\u001b[39mstderr,\n\u001b[1;32m    <a href='file:///home/gordo/anaconda3/envs/webscraper/lib/python3.10/subprocess.py?line=963'>964</a>\u001b[0m                     encoding\u001b[39m=\u001b[39mencoding, errors\u001b[39m=\u001b[39merrors)\n\u001b[0;32m--> <a href='file:///home/gordo/anaconda3/envs/webscraper/lib/python3.10/subprocess.py?line=965'>966</a>\u001b[0m     \u001b[39mself\u001b[39;49m\u001b[39m.\u001b[39;49m_execute_child(args, executable, preexec_fn, close_fds,\n\u001b[1;32m    <a href='file:///home/gordo/anaconda3/envs/webscraper/lib/python3.10/subprocess.py?line=966'>967</a>\u001b[0m                         pass_fds, cwd, env,\n\u001b[1;32m    <a href='file:///home/gordo/anaconda3/envs/webscraper/lib/python3.10/subprocess.py?line=967'>968</a>\u001b[0m                         startupinfo, creationflags, shell,\n\u001b[1;32m    <a href='file:///home/gordo/anaconda3/envs/webscraper/lib/python3.10/subprocess.py?line=968'>969</a>\u001b[0m                         p2cread, p2cwrite,\n\u001b[1;32m    <a href='file:///home/gordo/anaconda3/envs/webscraper/lib/python3.10/subprocess.py?line=969'>970</a>\u001b[0m                         c2pread, c2pwrite,\n\u001b[1;32m    <a href='file:///home/gordo/anaconda3/envs/webscraper/lib/python3.10/subprocess.py?line=970'>971</a>\u001b[0m                         errread, errwrite,\n\u001b[1;32m    <a href='file:///home/gordo/anaconda3/envs/webscraper/lib/python3.10/subprocess.py?line=971'>972</a>\u001b[0m                         restore_signals,\n\u001b[1;32m    <a href='file:///home/gordo/anaconda3/envs/webscraper/lib/python3.10/subprocess.py?line=972'>973</a>\u001b[0m                         gid, gids, uid, umask,\n\u001b[1;32m    <a href='file:///home/gordo/anaconda3/envs/webscraper/lib/python3.10/subprocess.py?line=973'>974</a>\u001b[0m                         start_new_session)\n\u001b[1;32m    <a href='file:///home/gordo/anaconda3/envs/webscraper/lib/python3.10/subprocess.py?line=974'>975</a>\u001b[0m \u001b[39mexcept\u001b[39;00m:\n\u001b[1;32m    <a href='file:///home/gordo/anaconda3/envs/webscraper/lib/python3.10/subprocess.py?line=975'>976</a>\u001b[0m     \u001b[39m# Cleanup if the child failed starting.\u001b[39;00m\n",
      "File \u001b[0;32m~/anaconda3/envs/webscraper/lib/python3.10/subprocess.py:1842\u001b[0m, in \u001b[0;36mPopen._execute_child\u001b[0;34m(self, args, executable, preexec_fn, close_fds, pass_fds, cwd, env, startupinfo, creationflags, shell, p2cread, p2cwrite, c2pread, c2pwrite, errread, errwrite, restore_signals, gid, gids, uid, umask, start_new_session)\u001b[0m\n\u001b[1;32m   <a href='file:///home/gordo/anaconda3/envs/webscraper/lib/python3.10/subprocess.py?line=1840'>1841</a>\u001b[0m         err_msg \u001b[39m=\u001b[39m os\u001b[39m.\u001b[39mstrerror(errno_num)\n\u001b[0;32m-> <a href='file:///home/gordo/anaconda3/envs/webscraper/lib/python3.10/subprocess.py?line=1841'>1842</a>\u001b[0m     \u001b[39mraise\u001b[39;00m child_exception_type(errno_num, err_msg, err_filename)\n\u001b[1;32m   <a href='file:///home/gordo/anaconda3/envs/webscraper/lib/python3.10/subprocess.py?line=1842'>1843</a>\u001b[0m \u001b[39mraise\u001b[39;00m child_exception_type(err_msg)\n",
      "\u001b[0;31mPermissionError\u001b[0m: [Errno 13] Permission denied: './chromedriver'",
      "\nDuring handling of the above exception, another exception occurred:\n",
      "\u001b[0;31mWebDriverException\u001b[0m                        Traceback (most recent call last)",
      "\u001b[1;32m/home/gordo/jmcg_dev/Projects/web_scraping/Selenium_Projects/AudioBooks_InfoScraper/Pages_Scrape.ipynb Cell 3'\u001b[0m in \u001b[0;36m<cell line: 1>\u001b[0;34m()\u001b[0m\n\u001b[0;32m----> <a href='vscode-notebook-cell://wsl%2Bubuntu/home/gordo/jmcg_dev/Projects/web_scraping/Selenium_Projects/AudioBooks_InfoScraper/Pages_Scrape.ipynb#ch0000002vscode-remote?line=0'>1</a>\u001b[0m driver \u001b[39m=\u001b[39m webdriver\u001b[39m.\u001b[39;49mChrome(path)\n\u001b[1;32m      <a href='vscode-notebook-cell://wsl%2Bubuntu/home/gordo/jmcg_dev/Projects/web_scraping/Selenium_Projects/AudioBooks_InfoScraper/Pages_Scrape.ipynb#ch0000002vscode-remote?line=1'>2</a>\u001b[0m driver\u001b[39m.\u001b[39mget(web)\n",
      "File \u001b[0;32m~/anaconda3/envs/webscraper/lib/python3.10/site-packages/selenium/webdriver/chrome/webdriver.py:73\u001b[0m, in \u001b[0;36mWebDriver.__init__\u001b[0;34m(self, executable_path, port, options, service_args, desired_capabilities, service_log_path, chrome_options, keep_alive)\u001b[0m\n\u001b[1;32m     <a href='file:///home/gordo/anaconda3/envs/webscraper/lib/python3.10/site-packages/selenium/webdriver/chrome/webdriver.py?line=65'>66</a>\u001b[0m         desired_capabilities\u001b[39m.\u001b[39mupdate(options\u001b[39m.\u001b[39mto_capabilities())\n\u001b[1;32m     <a href='file:///home/gordo/anaconda3/envs/webscraper/lib/python3.10/site-packages/selenium/webdriver/chrome/webdriver.py?line=67'>68</a>\u001b[0m \u001b[39mself\u001b[39m\u001b[39m.\u001b[39mservice \u001b[39m=\u001b[39m Service(\n\u001b[1;32m     <a href='file:///home/gordo/anaconda3/envs/webscraper/lib/python3.10/site-packages/selenium/webdriver/chrome/webdriver.py?line=68'>69</a>\u001b[0m     executable_path,\n\u001b[1;32m     <a href='file:///home/gordo/anaconda3/envs/webscraper/lib/python3.10/site-packages/selenium/webdriver/chrome/webdriver.py?line=69'>70</a>\u001b[0m     port\u001b[39m=\u001b[39mport,\n\u001b[1;32m     <a href='file:///home/gordo/anaconda3/envs/webscraper/lib/python3.10/site-packages/selenium/webdriver/chrome/webdriver.py?line=70'>71</a>\u001b[0m     service_args\u001b[39m=\u001b[39mservice_args,\n\u001b[1;32m     <a href='file:///home/gordo/anaconda3/envs/webscraper/lib/python3.10/site-packages/selenium/webdriver/chrome/webdriver.py?line=71'>72</a>\u001b[0m     log_path\u001b[39m=\u001b[39mservice_log_path)\n\u001b[0;32m---> <a href='file:///home/gordo/anaconda3/envs/webscraper/lib/python3.10/site-packages/selenium/webdriver/chrome/webdriver.py?line=72'>73</a>\u001b[0m \u001b[39mself\u001b[39;49m\u001b[39m.\u001b[39;49mservice\u001b[39m.\u001b[39;49mstart()\n\u001b[1;32m     <a href='file:///home/gordo/anaconda3/envs/webscraper/lib/python3.10/site-packages/selenium/webdriver/chrome/webdriver.py?line=74'>75</a>\u001b[0m \u001b[39mtry\u001b[39;00m:\n\u001b[1;32m     <a href='file:///home/gordo/anaconda3/envs/webscraper/lib/python3.10/site-packages/selenium/webdriver/chrome/webdriver.py?line=75'>76</a>\u001b[0m     RemoteWebDriver\u001b[39m.\u001b[39m\u001b[39m__init__\u001b[39m(\n\u001b[1;32m     <a href='file:///home/gordo/anaconda3/envs/webscraper/lib/python3.10/site-packages/selenium/webdriver/chrome/webdriver.py?line=76'>77</a>\u001b[0m         \u001b[39mself\u001b[39m,\n\u001b[1;32m     <a href='file:///home/gordo/anaconda3/envs/webscraper/lib/python3.10/site-packages/selenium/webdriver/chrome/webdriver.py?line=77'>78</a>\u001b[0m         command_executor\u001b[39m=\u001b[39mChromeRemoteConnection(\n\u001b[1;32m     <a href='file:///home/gordo/anaconda3/envs/webscraper/lib/python3.10/site-packages/selenium/webdriver/chrome/webdriver.py?line=78'>79</a>\u001b[0m             remote_server_addr\u001b[39m=\u001b[39m\u001b[39mself\u001b[39m\u001b[39m.\u001b[39mservice\u001b[39m.\u001b[39mservice_url,\n\u001b[1;32m     <a href='file:///home/gordo/anaconda3/envs/webscraper/lib/python3.10/site-packages/selenium/webdriver/chrome/webdriver.py?line=79'>80</a>\u001b[0m             keep_alive\u001b[39m=\u001b[39mkeep_alive),\n\u001b[1;32m     <a href='file:///home/gordo/anaconda3/envs/webscraper/lib/python3.10/site-packages/selenium/webdriver/chrome/webdriver.py?line=80'>81</a>\u001b[0m         desired_capabilities\u001b[39m=\u001b[39mdesired_capabilities)\n",
      "File \u001b[0;32m~/anaconda3/envs/webscraper/lib/python3.10/site-packages/selenium/webdriver/common/service.py:86\u001b[0m, in \u001b[0;36mService.start\u001b[0;34m(self)\u001b[0m\n\u001b[1;32m     <a href='file:///home/gordo/anaconda3/envs/webscraper/lib/python3.10/site-packages/selenium/webdriver/common/service.py?line=80'>81</a>\u001b[0m     \u001b[39mraise\u001b[39;00m WebDriverException(\n\u001b[1;32m     <a href='file:///home/gordo/anaconda3/envs/webscraper/lib/python3.10/site-packages/selenium/webdriver/common/service.py?line=81'>82</a>\u001b[0m         \u001b[39m\"\u001b[39m\u001b[39m'\u001b[39m\u001b[39m%s\u001b[39;00m\u001b[39m'\u001b[39m\u001b[39m executable needs to be in PATH. \u001b[39m\u001b[39m%s\u001b[39;00m\u001b[39m\"\u001b[39m \u001b[39m%\u001b[39m (\n\u001b[1;32m     <a href='file:///home/gordo/anaconda3/envs/webscraper/lib/python3.10/site-packages/selenium/webdriver/common/service.py?line=82'>83</a>\u001b[0m             os\u001b[39m.\u001b[39mpath\u001b[39m.\u001b[39mbasename(\u001b[39mself\u001b[39m\u001b[39m.\u001b[39mpath), \u001b[39mself\u001b[39m\u001b[39m.\u001b[39mstart_error_message)\n\u001b[1;32m     <a href='file:///home/gordo/anaconda3/envs/webscraper/lib/python3.10/site-packages/selenium/webdriver/common/service.py?line=83'>84</a>\u001b[0m     )\n\u001b[1;32m     <a href='file:///home/gordo/anaconda3/envs/webscraper/lib/python3.10/site-packages/selenium/webdriver/common/service.py?line=84'>85</a>\u001b[0m \u001b[39melif\u001b[39;00m err\u001b[39m.\u001b[39merrno \u001b[39m==\u001b[39m errno\u001b[39m.\u001b[39mEACCES:\n\u001b[0;32m---> <a href='file:///home/gordo/anaconda3/envs/webscraper/lib/python3.10/site-packages/selenium/webdriver/common/service.py?line=85'>86</a>\u001b[0m     \u001b[39mraise\u001b[39;00m WebDriverException(\n\u001b[1;32m     <a href='file:///home/gordo/anaconda3/envs/webscraper/lib/python3.10/site-packages/selenium/webdriver/common/service.py?line=86'>87</a>\u001b[0m         \u001b[39m\"\u001b[39m\u001b[39m'\u001b[39m\u001b[39m%s\u001b[39;00m\u001b[39m'\u001b[39m\u001b[39m executable may have wrong permissions. \u001b[39m\u001b[39m%s\u001b[39;00m\u001b[39m\"\u001b[39m \u001b[39m%\u001b[39m (\n\u001b[1;32m     <a href='file:///home/gordo/anaconda3/envs/webscraper/lib/python3.10/site-packages/selenium/webdriver/common/service.py?line=87'>88</a>\u001b[0m             os\u001b[39m.\u001b[39mpath\u001b[39m.\u001b[39mbasename(\u001b[39mself\u001b[39m\u001b[39m.\u001b[39mpath), \u001b[39mself\u001b[39m\u001b[39m.\u001b[39mstart_error_message)\n\u001b[1;32m     <a href='file:///home/gordo/anaconda3/envs/webscraper/lib/python3.10/site-packages/selenium/webdriver/common/service.py?line=88'>89</a>\u001b[0m     )\n\u001b[1;32m     <a href='file:///home/gordo/anaconda3/envs/webscraper/lib/python3.10/site-packages/selenium/webdriver/common/service.py?line=89'>90</a>\u001b[0m \u001b[39melse\u001b[39;00m:\n\u001b[1;32m     <a href='file:///home/gordo/anaconda3/envs/webscraper/lib/python3.10/site-packages/selenium/webdriver/common/service.py?line=90'>91</a>\u001b[0m     \u001b[39mraise\u001b[39;00m\n",
      "\u001b[0;31mWebDriverException\u001b[0m: Message: 'chromedriver' executable may have wrong permissions. Please see https://sites.google.com/a/chromium.org/chromedriver/home\n"
     ]
    }
   ],
   "source": [
    "driver = webdriver.Chrome(path)\n",
    "driver.get(web)"
   ]
  },
  {
   "cell_type": "code",
   "execution_count": null,
   "metadata": {},
   "outputs": [],
   "source": [
    "container = driver.find_element_by_class_name(\"adbl-impression-container\")\n",
    "products = container.find_elements_by_xpath('./li')"
   ]
  },
  {
   "cell_type": "code",
   "execution_count": null,
   "metadata": {},
   "outputs": [],
   "source": [
    "book_title = [product.find_elements_by_xpath('.//h3[contains(@class, \"bc-heading\")]').text for product in products]\n",
    "book_author = [product.find_elements_by_xpath('.//li[contains(@class, \"authorLabel\")]').text for product in products]\n",
    "book_length = [product.find_elements_by_xpath('//li[contains(@class, \"runtimeLabel\")]').text for product in products]"
   ]
  },
  {
   "cell_type": "code",
   "execution_count": null,
   "metadata": {},
   "outputs": [],
   "source": [
    "driver.quit()"
   ]
  },
  {
   "cell_type": "code",
   "execution_count": null,
   "metadata": {},
   "outputs": [],
   "source": [
    "df_books = pd.DataFrame({'Title': book_title, 'Author': book_author, 'length': book_length})\n",
    "\n",
    "df_books.to_csv('books.csv', index= False)"
   ]
  }
 ],
 "metadata": {
  "interpreter": {
   "hash": "430462293bab4d9c55e256554f363a2bd131c40879eb40597ce1446ecc7e802d"
  },
  "kernelspec": {
   "display_name": "Python 3.10.4 ('webscraper')",
   "language": "python",
   "name": "python3"
  },
  "language_info": {
   "codemirror_mode": {
    "name": "ipython",
    "version": 3
   },
   "file_extension": ".py",
   "mimetype": "text/x-python",
   "name": "python",
   "nbconvert_exporter": "python",
   "pygments_lexer": "ipython3",
   "version": "3.10.4"
  },
  "orig_nbformat": 4
 },
 "nbformat": 4,
 "nbformat_minor": 2
}
