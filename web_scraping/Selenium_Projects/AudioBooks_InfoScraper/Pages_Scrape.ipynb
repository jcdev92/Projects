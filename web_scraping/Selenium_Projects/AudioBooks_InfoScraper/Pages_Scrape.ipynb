{
 "cells": [
  {
   "cell_type": "code",
   "execution_count": 12,
   "metadata": {},
   "outputs": [],
   "source": [
    "from selenium import webdriver\n",
    "from selenium.webdriver.chrome.options import Options\n",
    "from selenium.webdriver.common.by import By\n",
    "from selenium.webdriver.support.ui import WebDriverWait\n",
    "from selenium.webdriver.support import expected_conditions as EC\n",
    "import pandas as pd\n",
    "import time"
   ]
  },
  {
   "cell_type": "code",
   "execution_count": 13,
   "metadata": {},
   "outputs": [],
   "source": [
    "path = './chromedriver'\n",
    "web = 'https://www.audible.com/search'"
   ]
  },
  {
   "cell_type": "code",
   "execution_count": 14,
   "metadata": {},
   "outputs": [],
   "source": [
    "options = Options()\n",
    "options.headless = False\n",
    "# options.add_argument('window_size=1920x1080')\n",
    "driver = webdriver.Chrome(path, options= options)\n",
    "driver.get(web)\n",
    "driver.maximize_window()"
   ]
  },
  {
   "cell_type": "code",
   "execution_count": 15,
   "metadata": {},
   "outputs": [],
   "source": [
    "# Pagin\n",
    "pagin = driver.find_element_by_xpath('.//ul[contains(@class, \"pagingElements\")]')\n",
    "pages = pagin.find_elements_by_tag_name('li')\n",
    "last_page = int(pages[-2].text)"
   ]
  },
  {
   "cell_type": "code",
   "execution_count": 16,
   "metadata": {},
   "outputs": [],
   "source": [
    "book_title = []\n",
    "book_author = []\n",
    "book_length = []\n",
    "\n",
    "current_page = 1\n",
    "\n",
    "while current_page <= last_page:\n",
    "    # time.sleep(3)\n",
    "    container = WebDriverWait(driver, 5).until(EC.presence_of_element_located((By.CLASS_NAME, \"adbl-impression-container\")))\n",
    "    # container = driver.find_element_by_class_name(\"adbl-impression-container\")\n",
    "    products = WebDriverWait(container,5).until(EC.presence_of_all_elements_located((By.XPATH, './li')))\n",
    "    # products = container.find_elements_by_xpath('./li')\n",
    "    book_title += [product.find_element_by_xpath('.//h3[contains(@class, \"bc-heading\")]').text for product in products]\n",
    "    book_author += [product.find_element_by_xpath('.//li[contains(@class, \"authorLabel\")]').text for product in products]\n",
    "    book_length += [product.find_element_by_xpath('.//li[contains(@class, \"runtimeLabel\")]').text for product in products]\n",
    "    current_page += 1\n",
    "    try:\n",
    "        next_page = driver.find_element_by_xpath('//span[contains(@class, \"nextButton\")]')\n",
    "        next_page.click()\n",
    "    except:\n",
    "        pass\n",
    "driver.quit()"
   ]
  },
  {
   "cell_type": "code",
   "execution_count": null,
   "metadata": {},
   "outputs": [],
   "source": [
    "df_books = pd.DataFrame({'Title': book_title, 'Author': book_author, 'length': book_length})\n",
    "\n",
    "df_books.to_csv('books_all_pages_explicit_wait.csv', index= False)"
   ]
  }
 ],
 "metadata": {
  "interpreter": {
   "hash": "430462293bab4d9c55e256554f363a2bd131c40879eb40597ce1446ecc7e802d"
  },
  "kernelspec": {
   "display_name": "Python 3.10.4 ('webscraper')",
   "language": "python",
   "name": "python3"
  },
  "language_info": {
   "codemirror_mode": {
    "name": "ipython",
    "version": 3
   },
   "file_extension": ".py",
   "mimetype": "text/x-python",
   "name": "python",
   "nbconvert_exporter": "python",
   "pygments_lexer": "ipython3",
   "version": "3.10.4"
  },
  "orig_nbformat": 4
 },
 "nbformat": 4,
 "nbformat_minor": 2
}
