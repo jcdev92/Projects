{
 "cells": [
  {
   "cell_type": "code",
   "execution_count": 35,
   "metadata": {},
   "outputs": [],
   "source": [
    "from selenium import webdriver\n",
    "from selenium.webdriver.chrome.options import Options\n",
    "from selenium.webdriver.common.by import By\n",
    "from selenium.webdriver.support.ui import WebDriverWait\n",
    "from selenium.webdriver.support import expected_conditions as EC\n",
    "import pandas as pd\n",
    "import time"
   ]
  },
  {
   "cell_type": "code",
   "execution_count": 36,
   "metadata": {},
   "outputs": [],
   "source": [
    "path = '/home/gordo/development/Projects/web_scraping/Selenium_Projects/chromedriver'\n",
    "web = 'https://projects.propublica.org/politwoops/user/realDonaldTrump'"
   ]
  },
  {
   "cell_type": "code",
   "execution_count": 37,
   "metadata": {},
   "outputs": [],
   "source": [
    "options = Options()\n",
    "options.headless = False\n",
    "# options.add_argument('window_size=1920x1080')\n",
    "driver = webdriver.Chrome(path, options= options)\n",
    "driver.get(web)\n",
    "driver.maximize_window()"
   ]
  },
  {
   "cell_type": "code",
   "execution_count": 38,
   "metadata": {},
   "outputs": [],
   "source": [
    "# Pagin\n",
    "pagins = driver.find_element_by_class_name('pagination')\n",
    "pages = pagins.find_elements_by_xpath('.//a[@href]')\n",
    "last_page = int(pages[-2].text)"
   ]
  },
  {
   "cell_type": "code",
   "execution_count": 40,
   "metadata": {},
   "outputs": [
    {
     "ename": "AttributeError",
     "evalue": "'list' object has no attribute 'find_elements_by_xpath'",
     "output_type": "error",
     "traceback": [
      "\u001b[0;31m---------------------------------------------------------------------------\u001b[0m",
      "\u001b[0;31mAttributeError\u001b[0m                            Traceback (most recent call last)",
      "\u001b[1;32m/home/gordo/development/Projects/web_scraping/Selenium_Projects/DonaldTrump_Tweets_Scraper/Tweets_Scraper.ipynb Cell 5'\u001b[0m in \u001b[0;36m<cell line: 7>\u001b[0;34m()\u001b[0m\n\u001b[1;32m     <a href='vscode-notebook-cell://wsl%2Bubuntu/home/gordo/development/Projects/web_scraping/Selenium_Projects/DonaldTrump_Tweets_Scraper/Tweets_Scraper.ipynb#ch0000004vscode-remote?line=10'>11</a>\u001b[0m tweets \u001b[39m=\u001b[39m WebDriverWait(container,\u001b[39m5\u001b[39m)\u001b[39m.\u001b[39muntil(EC\u001b[39m.\u001b[39mpresence_of_all_elements_located((By\u001b[39m.\u001b[39mCLASS_NAME, \u001b[39m\"\u001b[39m\u001b[39mtweet\u001b[39m\u001b[39m\"\u001b[39m)))\n\u001b[1;32m     <a href='vscode-notebook-cell://wsl%2Bubuntu/home/gordo/development/Projects/web_scraping/Selenium_Projects/DonaldTrump_Tweets_Scraper/Tweets_Scraper.ipynb#ch0000004vscode-remote?line=11'>12</a>\u001b[0m \u001b[39m# tweets = container.find_elements_by_xpath('./li')\u001b[39;00m\n\u001b[0;32m---> <a href='vscode-notebook-cell://wsl%2Bubuntu/home/gordo/development/Projects/web_scraping/Selenium_Projects/DonaldTrump_Tweets_Scraper/Tweets_Scraper.ipynb#ch0000004vscode-remote?line=12'>13</a>\u001b[0m title \u001b[39m+\u001b[39m\u001b[39m=\u001b[39m [tweets\u001b[39m.\u001b[39mfind_elements_by_xpath(\u001b[39m'\u001b[39m\u001b[39m.//h4[@class=\u001b[39m\u001b[39m\"\u001b[39m\u001b[39mtweetTitle\u001b[39m\u001b[39m\"\u001b[39m\u001b[39m]/a/@href\u001b[39m\u001b[39m'\u001b[39m)\u001b[39m.\u001b[39mtext \u001b[39mfor\u001b[39;00m tweet \u001b[39min\u001b[39;00m tweets]\n\u001b[1;32m     <a href='vscode-notebook-cell://wsl%2Bubuntu/home/gordo/development/Projects/web_scraping/Selenium_Projects/DonaldTrump_Tweets_Scraper/Tweets_Scraper.ipynb#ch0000004vscode-remote?line=13'>14</a>\u001b[0m account \u001b[39m+\u001b[39m\u001b[39m=\u001b[39m [tweets\u001b[39m.\u001b[39mfind_elements_by_xpath(\u001b[39m'\u001b[39m\u001b[39m.//a[@class=\u001b[39m\u001b[39m\"\u001b[39m\u001b[39maccountHandle linkUnderline\u001b[39m\u001b[39m\"\u001b[39m\u001b[39m]\u001b[39m\u001b[39m'\u001b[39m)\u001b[39m.\u001b[39mtext \u001b[39mfor\u001b[39;00m tweet \u001b[39min\u001b[39;00m tweets]\n\u001b[1;32m     <a href='vscode-notebook-cell://wsl%2Bubuntu/home/gordo/development/Projects/web_scraping/Selenium_Projects/DonaldTrump_Tweets_Scraper/Tweets_Scraper.ipynb#ch0000004vscode-remote?line=14'>15</a>\u001b[0m content \u001b[39m+\u001b[39m\u001b[39m=\u001b[39m [tweets\u001b[39m.\u001b[39mfind_elements_by_xpath(\u001b[39m'\u001b[39m\u001b[39m.//div[@class=\u001b[39m\u001b[39m\"\u001b[39m\u001b[39mtweet-content\u001b[39m\u001b[39m\"\u001b[39m\u001b[39m]/p\u001b[39m\u001b[39m'\u001b[39m)\u001b[39m.\u001b[39mtext \u001b[39mfor\u001b[39;00m tweet \u001b[39min\u001b[39;00m tweets]\n",
      "\u001b[1;32m/home/gordo/development/Projects/web_scraping/Selenium_Projects/DonaldTrump_Tweets_Scraper/Tweets_Scraper.ipynb Cell 5'\u001b[0m in \u001b[0;36m<listcomp>\u001b[0;34m(.0)\u001b[0m\n\u001b[1;32m     <a href='vscode-notebook-cell://wsl%2Bubuntu/home/gordo/development/Projects/web_scraping/Selenium_Projects/DonaldTrump_Tweets_Scraper/Tweets_Scraper.ipynb#ch0000004vscode-remote?line=10'>11</a>\u001b[0m tweets \u001b[39m=\u001b[39m WebDriverWait(container,\u001b[39m5\u001b[39m)\u001b[39m.\u001b[39muntil(EC\u001b[39m.\u001b[39mpresence_of_all_elements_located((By\u001b[39m.\u001b[39mCLASS_NAME, \u001b[39m\"\u001b[39m\u001b[39mtweet\u001b[39m\u001b[39m\"\u001b[39m)))\n\u001b[1;32m     <a href='vscode-notebook-cell://wsl%2Bubuntu/home/gordo/development/Projects/web_scraping/Selenium_Projects/DonaldTrump_Tweets_Scraper/Tweets_Scraper.ipynb#ch0000004vscode-remote?line=11'>12</a>\u001b[0m \u001b[39m# tweets = container.find_elements_by_xpath('./li')\u001b[39;00m\n\u001b[0;32m---> <a href='vscode-notebook-cell://wsl%2Bubuntu/home/gordo/development/Projects/web_scraping/Selenium_Projects/DonaldTrump_Tweets_Scraper/Tweets_Scraper.ipynb#ch0000004vscode-remote?line=12'>13</a>\u001b[0m title \u001b[39m+\u001b[39m\u001b[39m=\u001b[39m [tweets\u001b[39m.\u001b[39;49mfind_elements_by_xpath(\u001b[39m'\u001b[39m\u001b[39m.//h4[@class=\u001b[39m\u001b[39m\"\u001b[39m\u001b[39mtweetTitle\u001b[39m\u001b[39m\"\u001b[39m\u001b[39m]/a/@href\u001b[39m\u001b[39m'\u001b[39m)\u001b[39m.\u001b[39mtext \u001b[39mfor\u001b[39;00m tweet \u001b[39min\u001b[39;00m tweets]\n\u001b[1;32m     <a href='vscode-notebook-cell://wsl%2Bubuntu/home/gordo/development/Projects/web_scraping/Selenium_Projects/DonaldTrump_Tweets_Scraper/Tweets_Scraper.ipynb#ch0000004vscode-remote?line=13'>14</a>\u001b[0m account \u001b[39m+\u001b[39m\u001b[39m=\u001b[39m [tweets\u001b[39m.\u001b[39mfind_elements_by_xpath(\u001b[39m'\u001b[39m\u001b[39m.//a[@class=\u001b[39m\u001b[39m\"\u001b[39m\u001b[39maccountHandle linkUnderline\u001b[39m\u001b[39m\"\u001b[39m\u001b[39m]\u001b[39m\u001b[39m'\u001b[39m)\u001b[39m.\u001b[39mtext \u001b[39mfor\u001b[39;00m tweet \u001b[39min\u001b[39;00m tweets]\n\u001b[1;32m     <a href='vscode-notebook-cell://wsl%2Bubuntu/home/gordo/development/Projects/web_scraping/Selenium_Projects/DonaldTrump_Tweets_Scraper/Tweets_Scraper.ipynb#ch0000004vscode-remote?line=14'>15</a>\u001b[0m content \u001b[39m+\u001b[39m\u001b[39m=\u001b[39m [tweets\u001b[39m.\u001b[39mfind_elements_by_xpath(\u001b[39m'\u001b[39m\u001b[39m.//div[@class=\u001b[39m\u001b[39m\"\u001b[39m\u001b[39mtweet-content\u001b[39m\u001b[39m\"\u001b[39m\u001b[39m]/p\u001b[39m\u001b[39m'\u001b[39m)\u001b[39m.\u001b[39mtext \u001b[39mfor\u001b[39;00m tweet \u001b[39min\u001b[39;00m tweets]\n",
      "\u001b[0;31mAttributeError\u001b[0m: 'list' object has no attribute 'find_elements_by_xpath'"
     ]
    }
   ],
   "source": [
    "title = []\n",
    "account = []\n",
    "content = []\n",
    "\n",
    "current_page = 1\n",
    "\n",
    "while current_page <= last_page:\n",
    "    # time.sleep(3)\n",
    "    container = WebDriverWait(driver, 5).until(EC.presence_of_element_located((By.ID, \"all-container\")))\n",
    "    # container = driver.find_element_by_class_name(\"adbl-impression-container\")\n",
    "    tweets = WebDriverWait(container, 5).until(EC.presence_of_all_elements_located((By.CLASS_NAME, \"tweet\")))\n",
    "    # tweets = container.find_elements_by_xpath('./li')\n",
    "    title += [tweets.find_element_by_xpath('.//h4[@class=\"tweetTitle\"]/a/@href').text for tweet in tweets]\n",
    "    account += [tweets.find_element_by_xpath('.//a[@class=\"accountHandle linkUnderline\"]').text for tweet in tweets]\n",
    "    content += [tweets.find_element_by_xpath('.//div[@class=\"tweet-content\"]/p').text for tweet in tweets]\n",
    "    current_page += 1\n",
    "    try:\n",
    "        next_page = driver.find_element_by_xpath('.//a[@class=\"next_page\"]')\n",
    "        next_page.click()\n",
    "    except:\n",
    "        pass\n",
    "driver.quit()"
   ]
  },
  {
   "cell_type": "code",
   "execution_count": null,
   "metadata": {},
   "outputs": [],
   "source": [
    "df_books = pd.DataFrame({'Title': title, 'Account': account, 'Content': content})\n",
    "\n",
    "df_books.to_csv('books_all_pages_explicit_wait.csv', index= False)"
   ]
  }
 ],
 "metadata": {
  "interpreter": {
   "hash": "fa2be8f1045bbecc6f1984a81a1ed9f1273aaca1602438214cdaada8d9e22e81"
  },
  "kernelspec": {
   "display_name": "Python 3.9.12 ('DataSciences')",
   "language": "python",
   "name": "python3"
  },
  "language_info": {
   "codemirror_mode": {
    "name": "ipython",
    "version": 3
   },
   "file_extension": ".py",
   "mimetype": "text/x-python",
   "name": "python",
   "nbconvert_exporter": "python",
   "pygments_lexer": "ipython3",
   "version": "3.9.12"
  },
  "orig_nbformat": 4
 },
 "nbformat": 4,
 "nbformat_minor": 2
}
