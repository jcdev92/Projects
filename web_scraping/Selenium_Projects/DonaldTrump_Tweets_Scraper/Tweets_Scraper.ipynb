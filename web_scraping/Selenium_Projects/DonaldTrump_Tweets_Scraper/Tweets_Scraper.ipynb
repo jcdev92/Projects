{
 "cells": [
  {
   "cell_type": "code",
   "execution_count": 1,
   "metadata": {},
   "outputs": [],
   "source": [
    "from selenium import webdriver\n",
    "import requests\n",
    "from selenium.webdriver.chrome.options import Options\n",
    "from selenium.webdriver.common.by import By\n",
    "from selenium.webdriver.support.ui import WebDriverWait\n",
    "from selenium.webdriver.support import expected_conditions as EC\n",
    "import pandas as pd\n",
    "import time"
   ]
  },
  {
   "cell_type": "code",
   "execution_count": 2,
   "metadata": {},
   "outputs": [],
   "source": [
    "path = '/home/gordo/development/Projects/web_scraping/Selenium_Projects/chromedriver'\n",
    "web = 'https://projects.propublica.org/politwoops/user/realDonaldTrump'"
   ]
  },
  {
   "cell_type": "code",
   "execution_count": 3,
   "metadata": {},
   "outputs": [],
   "source": [
    "options = Options()\n",
    "options.headless = False\n",
    "# options.add_argument('window_size=1920x1080')\n",
    "driver = webdriver.Chrome(path, options= options)\n",
    "driver.get(web)\n",
    "driver.maximize_window()"
   ]
  },
  {
   "cell_type": "code",
   "execution_count": 4,
   "metadata": {},
   "outputs": [],
   "source": [
    "# Pagin\n",
    "pagins = driver.find_element_by_class_name('pagination')\n",
    "pages = pagins.find_elements_by_xpath('.//a[@href]')\n",
    "last_page = int(pages[-2].text)"
   ]
  },
  {
   "cell_type": "code",
   "execution_count": null,
   "metadata": {},
   "outputs": [],
   "source": [
    "title = []\n",
    "account = []\n",
    "content = []\n",
    "\n",
    "current_page = 1\n",
    "\n",
    "while current_page <= last_page:\n",
    "    # time.sleep(3)\n",
    "    \n",
    "    CURRENT_PAGE = driver.current_url\n",
    "    response = requests.get(CURRENT_PAGE)\n",
    "    if response.status_code == 200:    \n",
    "        container = WebDriverWait(driver, 25).until(EC.presence_of_element_located((By.ID, \"all-container\")))\n",
    "        # container = driver.find_element_by_class_name(\"adbl-impression-container\")\n",
    "        tweets = WebDriverWait(container, 25).until(EC.presence_of_all_elements_located((By.CLASS_NAME, \"tweet\")))\n",
    "        # tweets = container.find_elements_by_xpath('./li')\n",
    "        title += [tweet.find_element_by_xpath('.//h4[@class=\"tweetTitle\"]/a[@href]').text for tweet in tweets]\n",
    "        account += [tweet.find_element_by_xpath('.//a[@class=\"accountHandle linkUnderline\"]').text for tweet in tweets]\n",
    "        content += [tweet.find_element_by_xpath('.//div[@class=\"tweet-content\"]/p').text for tweet in tweets]\n",
    "        current_page += 1\n",
    "    else:\n",
    "        driver.get('https://projects.propublica.org/politwoops/user/realDonaldTrump?page=33')\n",
    "        container = WebDriverWait(driver, 25).until(EC.presence_of_element_located((By.ID, \"all-container\")))\n",
    "        # container = driver.find_element_by_class_name(\"adbl-impression-container\")\n",
    "        tweets = WebDriverWait(container, 25).until(EC.presence_of_all_elements_located((By.CLASS_NAME, \"tweet\")))\n",
    "        # tweets = container.find_elements_by_xpath('./li')\n",
    "        title += [tweet.find_element_by_xpath('.//h4[@class=\"tweetTitle\"]/a[@href]').text for tweet in tweets]\n",
    "        account += [tweet.find_element_by_xpath('.//a[@class=\"accountHandle linkUnderline\"]').text for tweet in tweets]\n",
    "        content += [tweet.find_element_by_xpath('.//div[@class=\"tweet-content\"]/p').text for tweet in tweets]\n",
    "        current_page += 1\n",
    "    try:    \n",
    "        next_page = driver.find_element_by_xpath('.//a[@class=\"next_page\"]')\n",
    "        next_page.click() \n",
    "    except:\n",
    "        pass\n",
    "driver.quit()"
   ]
  },
  {
   "cell_type": "code",
   "execution_count": null,
   "metadata": {},
   "outputs": [],
   "source": [
    "df_books = pd.DataFrame({'Title': title, 'Account': account, 'Content': content})\n",
    "\n",
    "df_books.to_csv('books_all_pages_explicit_wait.csv', index= False)"
   ]
  }
 ],
 "metadata": {
  "interpreter": {
   "hash": "fa2be8f1045bbecc6f1984a81a1ed9f1273aaca1602438214cdaada8d9e22e81"
  },
  "kernelspec": {
   "display_name": "Python 3.9.12 ('DataSciences')",
   "language": "python",
   "name": "python3"
  },
  "language_info": {
   "codemirror_mode": {
    "name": "ipython",
    "version": 3
   },
   "file_extension": ".py",
   "mimetype": "text/x-python",
   "name": "python",
   "nbconvert_exporter": "python",
   "pygments_lexer": "ipython3",
   "version": "3.9.12"
  },
  "orig_nbformat": 4
 },
 "nbformat": 4,
 "nbformat_minor": 2
}
