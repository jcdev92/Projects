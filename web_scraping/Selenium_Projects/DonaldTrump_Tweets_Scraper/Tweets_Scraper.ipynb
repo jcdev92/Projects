{
 "cells": [
  {
   "cell_type": "code",
   "execution_count": 35,
   "metadata": {},
   "outputs": [],
   "source": [
    "from selenium import webdriver\n",
    "from selenium.webdriver.chrome.options import Options\n",
    "from selenium.webdriver.common.by import By\n",
    "from selenium.webdriver.support.ui import WebDriverWait\n",
    "from selenium.webdriver.support import expected_conditions as EC\n",
    "import pandas as pd\n",
    "import time"
   ]
  },
  {
   "cell_type": "code",
   "execution_count": 36,
   "metadata": {},
   "outputs": [],
   "source": [
    "path = '/home/gordo/development/Projects/web_scraping/Selenium_Projects/chromedriver'\n",
    "web = 'https://projects.propublica.org/politwoops/user/realDonaldTrump'"
   ]
  },
  {
   "cell_type": "code",
   "execution_count": 37,
   "metadata": {},
   "outputs": [],
   "source": [
    "options = Options()\n",
    "options.headless = False\n",
    "# options.add_argument('window_size=1920x1080')\n",
    "driver = webdriver.Chrome(path, options= options)\n",
    "driver.get(web)\n",
    "driver.maximize_window()"
   ]
  },
  {
   "cell_type": "code",
   "execution_count": 38,
   "metadata": {},
   "outputs": [],
   "source": [
    "# Pagin\n",
    "pagins = driver.find_element_by_class_name('pagination')\n",
    "pages = pagins.find_elements_by_xpath('.//a[@href]')\n",
    "last_page = int(pages[-2].text)"
   ]
  },
  {
   "cell_type": "code",
   "execution_count": 42,
   "metadata": {},
   "outputs": [
    {
     "ename": "TimeoutException",
     "evalue": "Message: \n",
     "output_type": "error",
     "traceback": [
      "\u001b[0;31m---------------------------------------------------------------------------\u001b[0m",
      "\u001b[0;31mTimeoutException\u001b[0m                          Traceback (most recent call last)",
      "\u001b[1;32m/home/gordo/development/Projects/web_scraping/Selenium_Projects/DonaldTrump_Tweets_Scraper/Tweets_Scraper.ipynb Cell 5'\u001b[0m in \u001b[0;36m<cell line: 7>\u001b[0;34m()\u001b[0m\n\u001b[1;32m      <a href='vscode-notebook-cell://wsl%2Bubuntu/home/gordo/development/Projects/web_scraping/Selenium_Projects/DonaldTrump_Tweets_Scraper/Tweets_Scraper.ipynb#ch0000004vscode-remote?line=4'>5</a>\u001b[0m current_page \u001b[39m=\u001b[39m \u001b[39m1\u001b[39m\n\u001b[1;32m      <a href='vscode-notebook-cell://wsl%2Bubuntu/home/gordo/development/Projects/web_scraping/Selenium_Projects/DonaldTrump_Tweets_Scraper/Tweets_Scraper.ipynb#ch0000004vscode-remote?line=6'>7</a>\u001b[0m \u001b[39mwhile\u001b[39;00m current_page \u001b[39m<\u001b[39m\u001b[39m=\u001b[39m last_page:\n\u001b[1;32m      <a href='vscode-notebook-cell://wsl%2Bubuntu/home/gordo/development/Projects/web_scraping/Selenium_Projects/DonaldTrump_Tweets_Scraper/Tweets_Scraper.ipynb#ch0000004vscode-remote?line=7'>8</a>\u001b[0m     \u001b[39m# time.sleep(3)\u001b[39;00m\n\u001b[0;32m----> <a href='vscode-notebook-cell://wsl%2Bubuntu/home/gordo/development/Projects/web_scraping/Selenium_Projects/DonaldTrump_Tweets_Scraper/Tweets_Scraper.ipynb#ch0000004vscode-remote?line=8'>9</a>\u001b[0m     container \u001b[39m=\u001b[39m WebDriverWait(driver, \u001b[39m5\u001b[39;49m)\u001b[39m.\u001b[39;49muntil(EC\u001b[39m.\u001b[39;49mpresence_of_element_located((By\u001b[39m.\u001b[39;49mID, \u001b[39m\"\u001b[39;49m\u001b[39mall-container\u001b[39;49m\u001b[39m\"\u001b[39;49m)))\n\u001b[1;32m     <a href='vscode-notebook-cell://wsl%2Bubuntu/home/gordo/development/Projects/web_scraping/Selenium_Projects/DonaldTrump_Tweets_Scraper/Tweets_Scraper.ipynb#ch0000004vscode-remote?line=9'>10</a>\u001b[0m     \u001b[39m# container = driver.find_element_by_class_name(\"adbl-impression-container\")\u001b[39;00m\n\u001b[1;32m     <a href='vscode-notebook-cell://wsl%2Bubuntu/home/gordo/development/Projects/web_scraping/Selenium_Projects/DonaldTrump_Tweets_Scraper/Tweets_Scraper.ipynb#ch0000004vscode-remote?line=10'>11</a>\u001b[0m     tweets \u001b[39m=\u001b[39m WebDriverWait(container, \u001b[39m5\u001b[39m)\u001b[39m.\u001b[39muntil(EC\u001b[39m.\u001b[39mpresence_of_all_elements_located((By\u001b[39m.\u001b[39mCLASS_NAME, \u001b[39m\"\u001b[39m\u001b[39mtweet\u001b[39m\u001b[39m\"\u001b[39m)))\n",
      "File \u001b[0;32m~/anaconda3/envs/DataSciences/lib/python3.9/site-packages/selenium/webdriver/support/wait.py:80\u001b[0m, in \u001b[0;36mWebDriverWait.until\u001b[0;34m(self, method, message)\u001b[0m\n\u001b[1;32m     <a href='file:///home/gordo/anaconda3/envs/DataSciences/lib/python3.9/site-packages/selenium/webdriver/support/wait.py?line=77'>78</a>\u001b[0m     \u001b[39mif\u001b[39;00m time\u001b[39m.\u001b[39mtime() \u001b[39m>\u001b[39m end_time:\n\u001b[1;32m     <a href='file:///home/gordo/anaconda3/envs/DataSciences/lib/python3.9/site-packages/selenium/webdriver/support/wait.py?line=78'>79</a>\u001b[0m         \u001b[39mbreak\u001b[39;00m\n\u001b[0;32m---> <a href='file:///home/gordo/anaconda3/envs/DataSciences/lib/python3.9/site-packages/selenium/webdriver/support/wait.py?line=79'>80</a>\u001b[0m \u001b[39mraise\u001b[39;00m TimeoutException(message, screen, stacktrace)\n",
      "\u001b[0;31mTimeoutException\u001b[0m: Message: \n"
     ]
    }
   ],
   "source": [
    "title = []\n",
    "account = []\n",
    "content = []\n",
    "\n",
    "current_page = 1\n",
    "\n",
    "while current_page <= last_page:\n",
    "    # time.sleep(3)\n",
    "    container = WebDriverWait(driver, 5).until(EC.presence_of_element_located((By.ID, \"all-container\")))\n",
    "    # container = driver.find_element_by_class_name(\"adbl-impression-container\")\n",
    "    tweets = WebDriverWait(container, 5).until(EC.presence_of_all_elements_located((By.CLASS_NAME, \"tweet\")))\n",
    "    # tweets = container.find_elements_by_xpath('./li')\n",
    "    title += [tweet.find_element_by_xpath('.//h4[@class=\"tweetTitle\"]/a[@href]').text for tweet in tweets]\n",
    "    account += [tweet.find_element_by_xpath('.//a[@class=\"accountHandle linkUnderline\"]').text for tweet in tweets]\n",
    "    content += [tweet.find_element_by_xpath('.//div[@class=\"tweet-content\"]/p').text for tweet in tweets]\n",
    "    current_page += 1\n",
    "    try:\n",
    "        next_page = driver.find_element_by_xpath('.//a[@class=\"next_page\"]')\n",
    "        next_page.click()\n",
    "    except:\n",
    "        pass\n",
    "driver.quit()"
   ]
  },
  {
   "cell_type": "code",
   "execution_count": null,
   "metadata": {},
   "outputs": [],
   "source": [
    "df_books = pd.DataFrame({'Title': title, 'Account': account, 'Content': content})\n",
    "\n",
    "df_books.to_csv('books_all_pages_explicit_wait.csv', index= False)"
   ]
  }
 ],
 "metadata": {
  "interpreter": {
   "hash": "fa2be8f1045bbecc6f1984a81a1ed9f1273aaca1602438214cdaada8d9e22e81"
  },
  "kernelspec": {
   "display_name": "Python 3.9.12 ('DataSciences')",
   "language": "python",
   "name": "python3"
  },
  "language_info": {
   "codemirror_mode": {
    "name": "ipython",
    "version": 3
   },
   "file_extension": ".py",
   "mimetype": "text/x-python",
   "name": "python",
   "nbconvert_exporter": "python",
   "pygments_lexer": "ipython3",
   "version": "3.9.12"
  },
  "orig_nbformat": 4
 },
 "nbformat": 4,
 "nbformat_minor": 2
}
