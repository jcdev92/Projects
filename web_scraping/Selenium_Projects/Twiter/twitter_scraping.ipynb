{
 "cells": [
  {
   "cell_type": "code",
   "execution_count": 15,
   "metadata": {},
   "outputs": [],
   "source": [
    "from selenium import webdriver\n",
    "import pandas as pd\n",
    "import os\n",
    "import time"
   ]
  },
  {
   "cell_type": "code",
   "execution_count": 16,
   "metadata": {},
   "outputs": [],
   "source": [
    "path = './Selenium_Projects/chromedriver'\n",
    "web = 'https://twitter.com/'"
   ]
  },
  {
   "cell_type": "code",
   "execution_count": 17,
   "metadata": {},
   "outputs": [
    {
     "ename": "WebDriverException",
     "evalue": "Message: 'chromedriver' executable needs to be in PATH. Please see https://sites.google.com/a/chromium.org/chromedriver/home\n",
     "output_type": "error",
     "traceback": [
      "\u001b[0;31m---------------------------------------------------------------------------\u001b[0m",
      "\u001b[0;31mFileNotFoundError\u001b[0m                         Traceback (most recent call last)",
      "File \u001b[0;32m~/anaconda3/envs/DataSciences/lib/python3.9/site-packages/selenium/webdriver/common/service.py:72\u001b[0m, in \u001b[0;36mService.start\u001b[0;34m(self)\u001b[0m\n\u001b[1;32m     <a href='file:///home/gordo/anaconda3/envs/DataSciences/lib/python3.9/site-packages/selenium/webdriver/common/service.py?line=70'>71</a>\u001b[0m     cmd\u001b[39m.\u001b[39mextend(\u001b[39mself\u001b[39m\u001b[39m.\u001b[39mcommand_line_args())\n\u001b[0;32m---> <a href='file:///home/gordo/anaconda3/envs/DataSciences/lib/python3.9/site-packages/selenium/webdriver/common/service.py?line=71'>72</a>\u001b[0m     \u001b[39mself\u001b[39m\u001b[39m.\u001b[39mprocess \u001b[39m=\u001b[39m subprocess\u001b[39m.\u001b[39;49mPopen(cmd, env\u001b[39m=\u001b[39;49m\u001b[39mself\u001b[39;49m\u001b[39m.\u001b[39;49menv,\n\u001b[1;32m     <a href='file:///home/gordo/anaconda3/envs/DataSciences/lib/python3.9/site-packages/selenium/webdriver/common/service.py?line=72'>73</a>\u001b[0m                                     close_fds\u001b[39m=\u001b[39;49mplatform\u001b[39m.\u001b[39;49msystem() \u001b[39m!=\u001b[39;49m \u001b[39m'\u001b[39;49m\u001b[39mWindows\u001b[39;49m\u001b[39m'\u001b[39;49m,\n\u001b[1;32m     <a href='file:///home/gordo/anaconda3/envs/DataSciences/lib/python3.9/site-packages/selenium/webdriver/common/service.py?line=73'>74</a>\u001b[0m                                     stdout\u001b[39m=\u001b[39;49m\u001b[39mself\u001b[39;49m\u001b[39m.\u001b[39;49mlog_file,\n\u001b[1;32m     <a href='file:///home/gordo/anaconda3/envs/DataSciences/lib/python3.9/site-packages/selenium/webdriver/common/service.py?line=74'>75</a>\u001b[0m                                     stderr\u001b[39m=\u001b[39;49m\u001b[39mself\u001b[39;49m\u001b[39m.\u001b[39;49mlog_file,\n\u001b[1;32m     <a href='file:///home/gordo/anaconda3/envs/DataSciences/lib/python3.9/site-packages/selenium/webdriver/common/service.py?line=75'>76</a>\u001b[0m                                     stdin\u001b[39m=\u001b[39;49mPIPE)\n\u001b[1;32m     <a href='file:///home/gordo/anaconda3/envs/DataSciences/lib/python3.9/site-packages/selenium/webdriver/common/service.py?line=76'>77</a>\u001b[0m \u001b[39mexcept\u001b[39;00m \u001b[39mTypeError\u001b[39;00m:\n",
      "File \u001b[0;32m~/anaconda3/envs/DataSciences/lib/python3.9/subprocess.py:951\u001b[0m, in \u001b[0;36mPopen.__init__\u001b[0;34m(self, args, bufsize, executable, stdin, stdout, stderr, preexec_fn, close_fds, shell, cwd, env, universal_newlines, startupinfo, creationflags, restore_signals, start_new_session, pass_fds, user, group, extra_groups, encoding, errors, text, umask)\u001b[0m\n\u001b[1;32m    <a href='file:///home/gordo/anaconda3/envs/DataSciences/lib/python3.9/subprocess.py?line=947'>948</a>\u001b[0m             \u001b[39mself\u001b[39m\u001b[39m.\u001b[39mstderr \u001b[39m=\u001b[39m io\u001b[39m.\u001b[39mTextIOWrapper(\u001b[39mself\u001b[39m\u001b[39m.\u001b[39mstderr,\n\u001b[1;32m    <a href='file:///home/gordo/anaconda3/envs/DataSciences/lib/python3.9/subprocess.py?line=948'>949</a>\u001b[0m                     encoding\u001b[39m=\u001b[39mencoding, errors\u001b[39m=\u001b[39merrors)\n\u001b[0;32m--> <a href='file:///home/gordo/anaconda3/envs/DataSciences/lib/python3.9/subprocess.py?line=950'>951</a>\u001b[0m     \u001b[39mself\u001b[39;49m\u001b[39m.\u001b[39;49m_execute_child(args, executable, preexec_fn, close_fds,\n\u001b[1;32m    <a href='file:///home/gordo/anaconda3/envs/DataSciences/lib/python3.9/subprocess.py?line=951'>952</a>\u001b[0m                         pass_fds, cwd, env,\n\u001b[1;32m    <a href='file:///home/gordo/anaconda3/envs/DataSciences/lib/python3.9/subprocess.py?line=952'>953</a>\u001b[0m                         startupinfo, creationflags, shell,\n\u001b[1;32m    <a href='file:///home/gordo/anaconda3/envs/DataSciences/lib/python3.9/subprocess.py?line=953'>954</a>\u001b[0m                         p2cread, p2cwrite,\n\u001b[1;32m    <a href='file:///home/gordo/anaconda3/envs/DataSciences/lib/python3.9/subprocess.py?line=954'>955</a>\u001b[0m                         c2pread, c2pwrite,\n\u001b[1;32m    <a href='file:///home/gordo/anaconda3/envs/DataSciences/lib/python3.9/subprocess.py?line=955'>956</a>\u001b[0m                         errread, errwrite,\n\u001b[1;32m    <a href='file:///home/gordo/anaconda3/envs/DataSciences/lib/python3.9/subprocess.py?line=956'>957</a>\u001b[0m                         restore_signals,\n\u001b[1;32m    <a href='file:///home/gordo/anaconda3/envs/DataSciences/lib/python3.9/subprocess.py?line=957'>958</a>\u001b[0m                         gid, gids, uid, umask,\n\u001b[1;32m    <a href='file:///home/gordo/anaconda3/envs/DataSciences/lib/python3.9/subprocess.py?line=958'>959</a>\u001b[0m                         start_new_session)\n\u001b[1;32m    <a href='file:///home/gordo/anaconda3/envs/DataSciences/lib/python3.9/subprocess.py?line=959'>960</a>\u001b[0m \u001b[39mexcept\u001b[39;00m:\n\u001b[1;32m    <a href='file:///home/gordo/anaconda3/envs/DataSciences/lib/python3.9/subprocess.py?line=960'>961</a>\u001b[0m     \u001b[39m# Cleanup if the child failed starting.\u001b[39;00m\n",
      "File \u001b[0;32m~/anaconda3/envs/DataSciences/lib/python3.9/subprocess.py:1821\u001b[0m, in \u001b[0;36mPopen._execute_child\u001b[0;34m(self, args, executable, preexec_fn, close_fds, pass_fds, cwd, env, startupinfo, creationflags, shell, p2cread, p2cwrite, c2pread, c2pwrite, errread, errwrite, restore_signals, gid, gids, uid, umask, start_new_session)\u001b[0m\n\u001b[1;32m   <a href='file:///home/gordo/anaconda3/envs/DataSciences/lib/python3.9/subprocess.py?line=1819'>1820</a>\u001b[0m         err_msg \u001b[39m=\u001b[39m os\u001b[39m.\u001b[39mstrerror(errno_num)\n\u001b[0;32m-> <a href='file:///home/gordo/anaconda3/envs/DataSciences/lib/python3.9/subprocess.py?line=1820'>1821</a>\u001b[0m     \u001b[39mraise\u001b[39;00m child_exception_type(errno_num, err_msg, err_filename)\n\u001b[1;32m   <a href='file:///home/gordo/anaconda3/envs/DataSciences/lib/python3.9/subprocess.py?line=1821'>1822</a>\u001b[0m \u001b[39mraise\u001b[39;00m child_exception_type(err_msg)\n",
      "\u001b[0;31mFileNotFoundError\u001b[0m: [Errno 2] No such file or directory: './Selenium_Projects/chromedriver'",
      "\nDuring handling of the above exception, another exception occurred:\n",
      "\u001b[0;31mWebDriverException\u001b[0m                        Traceback (most recent call last)",
      "\u001b[1;32m/home/gordo/development/Projects/web_scraping/Selenium_Projects/Twiter/twitter_scraping.ipynb Cell 3'\u001b[0m in \u001b[0;36m<cell line: 1>\u001b[0;34m()\u001b[0m\n\u001b[0;32m----> <a href='vscode-notebook-cell://wsl%2Bubuntu/home/gordo/development/Projects/web_scraping/Selenium_Projects/Twiter/twitter_scraping.ipynb#ch0000002vscode-remote?line=0'>1</a>\u001b[0m driver \u001b[39m=\u001b[39m webdriver\u001b[39m.\u001b[39;49mChrome(path)\n\u001b[1;32m      <a href='vscode-notebook-cell://wsl%2Bubuntu/home/gordo/development/Projects/web_scraping/Selenium_Projects/Twiter/twitter_scraping.ipynb#ch0000002vscode-remote?line=1'>2</a>\u001b[0m driver\u001b[39m.\u001b[39mget(web)\n\u001b[1;32m      <a href='vscode-notebook-cell://wsl%2Bubuntu/home/gordo/development/Projects/web_scraping/Selenium_Projects/Twiter/twitter_scraping.ipynb#ch0000002vscode-remote?line=2'>3</a>\u001b[0m driver\u001b[39m.\u001b[39mmaximize_window()\n",
      "File \u001b[0;32m~/anaconda3/envs/DataSciences/lib/python3.9/site-packages/selenium/webdriver/chrome/webdriver.py:73\u001b[0m, in \u001b[0;36mWebDriver.__init__\u001b[0;34m(self, executable_path, port, options, service_args, desired_capabilities, service_log_path, chrome_options, keep_alive)\u001b[0m\n\u001b[1;32m     <a href='file:///home/gordo/anaconda3/envs/DataSciences/lib/python3.9/site-packages/selenium/webdriver/chrome/webdriver.py?line=65'>66</a>\u001b[0m         desired_capabilities\u001b[39m.\u001b[39mupdate(options\u001b[39m.\u001b[39mto_capabilities())\n\u001b[1;32m     <a href='file:///home/gordo/anaconda3/envs/DataSciences/lib/python3.9/site-packages/selenium/webdriver/chrome/webdriver.py?line=67'>68</a>\u001b[0m \u001b[39mself\u001b[39m\u001b[39m.\u001b[39mservice \u001b[39m=\u001b[39m Service(\n\u001b[1;32m     <a href='file:///home/gordo/anaconda3/envs/DataSciences/lib/python3.9/site-packages/selenium/webdriver/chrome/webdriver.py?line=68'>69</a>\u001b[0m     executable_path,\n\u001b[1;32m     <a href='file:///home/gordo/anaconda3/envs/DataSciences/lib/python3.9/site-packages/selenium/webdriver/chrome/webdriver.py?line=69'>70</a>\u001b[0m     port\u001b[39m=\u001b[39mport,\n\u001b[1;32m     <a href='file:///home/gordo/anaconda3/envs/DataSciences/lib/python3.9/site-packages/selenium/webdriver/chrome/webdriver.py?line=70'>71</a>\u001b[0m     service_args\u001b[39m=\u001b[39mservice_args,\n\u001b[1;32m     <a href='file:///home/gordo/anaconda3/envs/DataSciences/lib/python3.9/site-packages/selenium/webdriver/chrome/webdriver.py?line=71'>72</a>\u001b[0m     log_path\u001b[39m=\u001b[39mservice_log_path)\n\u001b[0;32m---> <a href='file:///home/gordo/anaconda3/envs/DataSciences/lib/python3.9/site-packages/selenium/webdriver/chrome/webdriver.py?line=72'>73</a>\u001b[0m \u001b[39mself\u001b[39;49m\u001b[39m.\u001b[39;49mservice\u001b[39m.\u001b[39;49mstart()\n\u001b[1;32m     <a href='file:///home/gordo/anaconda3/envs/DataSciences/lib/python3.9/site-packages/selenium/webdriver/chrome/webdriver.py?line=74'>75</a>\u001b[0m \u001b[39mtry\u001b[39;00m:\n\u001b[1;32m     <a href='file:///home/gordo/anaconda3/envs/DataSciences/lib/python3.9/site-packages/selenium/webdriver/chrome/webdriver.py?line=75'>76</a>\u001b[0m     RemoteWebDriver\u001b[39m.\u001b[39m\u001b[39m__init__\u001b[39m(\n\u001b[1;32m     <a href='file:///home/gordo/anaconda3/envs/DataSciences/lib/python3.9/site-packages/selenium/webdriver/chrome/webdriver.py?line=76'>77</a>\u001b[0m         \u001b[39mself\u001b[39m,\n\u001b[1;32m     <a href='file:///home/gordo/anaconda3/envs/DataSciences/lib/python3.9/site-packages/selenium/webdriver/chrome/webdriver.py?line=77'>78</a>\u001b[0m         command_executor\u001b[39m=\u001b[39mChromeRemoteConnection(\n\u001b[1;32m     <a href='file:///home/gordo/anaconda3/envs/DataSciences/lib/python3.9/site-packages/selenium/webdriver/chrome/webdriver.py?line=78'>79</a>\u001b[0m             remote_server_addr\u001b[39m=\u001b[39m\u001b[39mself\u001b[39m\u001b[39m.\u001b[39mservice\u001b[39m.\u001b[39mservice_url,\n\u001b[1;32m     <a href='file:///home/gordo/anaconda3/envs/DataSciences/lib/python3.9/site-packages/selenium/webdriver/chrome/webdriver.py?line=79'>80</a>\u001b[0m             keep_alive\u001b[39m=\u001b[39mkeep_alive),\n\u001b[1;32m     <a href='file:///home/gordo/anaconda3/envs/DataSciences/lib/python3.9/site-packages/selenium/webdriver/chrome/webdriver.py?line=80'>81</a>\u001b[0m         desired_capabilities\u001b[39m=\u001b[39mdesired_capabilities)\n",
      "File \u001b[0;32m~/anaconda3/envs/DataSciences/lib/python3.9/site-packages/selenium/webdriver/common/service.py:81\u001b[0m, in \u001b[0;36mService.start\u001b[0;34m(self)\u001b[0m\n\u001b[1;32m     <a href='file:///home/gordo/anaconda3/envs/DataSciences/lib/python3.9/site-packages/selenium/webdriver/common/service.py?line=78'>79</a>\u001b[0m \u001b[39mexcept\u001b[39;00m \u001b[39mOSError\u001b[39;00m \u001b[39mas\u001b[39;00m err:\n\u001b[1;32m     <a href='file:///home/gordo/anaconda3/envs/DataSciences/lib/python3.9/site-packages/selenium/webdriver/common/service.py?line=79'>80</a>\u001b[0m     \u001b[39mif\u001b[39;00m err\u001b[39m.\u001b[39merrno \u001b[39m==\u001b[39m errno\u001b[39m.\u001b[39mENOENT:\n\u001b[0;32m---> <a href='file:///home/gordo/anaconda3/envs/DataSciences/lib/python3.9/site-packages/selenium/webdriver/common/service.py?line=80'>81</a>\u001b[0m         \u001b[39mraise\u001b[39;00m WebDriverException(\n\u001b[1;32m     <a href='file:///home/gordo/anaconda3/envs/DataSciences/lib/python3.9/site-packages/selenium/webdriver/common/service.py?line=81'>82</a>\u001b[0m             \u001b[39m\"\u001b[39m\u001b[39m'\u001b[39m\u001b[39m%s\u001b[39;00m\u001b[39m'\u001b[39m\u001b[39m executable needs to be in PATH. \u001b[39m\u001b[39m%s\u001b[39;00m\u001b[39m\"\u001b[39m \u001b[39m%\u001b[39m (\n\u001b[1;32m     <a href='file:///home/gordo/anaconda3/envs/DataSciences/lib/python3.9/site-packages/selenium/webdriver/common/service.py?line=82'>83</a>\u001b[0m                 os\u001b[39m.\u001b[39mpath\u001b[39m.\u001b[39mbasename(\u001b[39mself\u001b[39m\u001b[39m.\u001b[39mpath), \u001b[39mself\u001b[39m\u001b[39m.\u001b[39mstart_error_message)\n\u001b[1;32m     <a href='file:///home/gordo/anaconda3/envs/DataSciences/lib/python3.9/site-packages/selenium/webdriver/common/service.py?line=83'>84</a>\u001b[0m         )\n\u001b[1;32m     <a href='file:///home/gordo/anaconda3/envs/DataSciences/lib/python3.9/site-packages/selenium/webdriver/common/service.py?line=84'>85</a>\u001b[0m     \u001b[39melif\u001b[39;00m err\u001b[39m.\u001b[39merrno \u001b[39m==\u001b[39m errno\u001b[39m.\u001b[39mEACCES:\n\u001b[1;32m     <a href='file:///home/gordo/anaconda3/envs/DataSciences/lib/python3.9/site-packages/selenium/webdriver/common/service.py?line=85'>86</a>\u001b[0m         \u001b[39mraise\u001b[39;00m WebDriverException(\n\u001b[1;32m     <a href='file:///home/gordo/anaconda3/envs/DataSciences/lib/python3.9/site-packages/selenium/webdriver/common/service.py?line=86'>87</a>\u001b[0m             \u001b[39m\"\u001b[39m\u001b[39m'\u001b[39m\u001b[39m%s\u001b[39;00m\u001b[39m'\u001b[39m\u001b[39m executable may have wrong permissions. \u001b[39m\u001b[39m%s\u001b[39;00m\u001b[39m\"\u001b[39m \u001b[39m%\u001b[39m (\n\u001b[1;32m     <a href='file:///home/gordo/anaconda3/envs/DataSciences/lib/python3.9/site-packages/selenium/webdriver/common/service.py?line=87'>88</a>\u001b[0m                 os\u001b[39m.\u001b[39mpath\u001b[39m.\u001b[39mbasename(\u001b[39mself\u001b[39m\u001b[39m.\u001b[39mpath), \u001b[39mself\u001b[39m\u001b[39m.\u001b[39mstart_error_message)\n\u001b[1;32m     <a href='file:///home/gordo/anaconda3/envs/DataSciences/lib/python3.9/site-packages/selenium/webdriver/common/service.py?line=88'>89</a>\u001b[0m         )\n",
      "\u001b[0;31mWebDriverException\u001b[0m: Message: 'chromedriver' executable needs to be in PATH. Please see https://sites.google.com/a/chromium.org/chromedriver/home\n"
     ]
    }
   ],
   "source": [
    "driver = webdriver.Chrome(path)\n",
    "driver.get(web)\n",
    "driver.maximize_window()"
   ]
  },
  {
   "cell_type": "code",
   "execution_count": null,
   "metadata": {},
   "outputs": [],
   "source": [
    "time.sleep(6)"
   ]
  },
  {
   "cell_type": "markdown",
   "metadata": {},
   "source": [
    "# Login Buttom"
   ]
  },
  {
   "cell_type": "code",
   "execution_count": null,
   "metadata": {},
   "outputs": [],
   "source": [
    "login = driver.find_element_by_xpath('//a[@href=\"/login\"]')\n",
    "login.click()"
   ]
  },
  {
   "cell_type": "markdown",
   "metadata": {},
   "source": [
    "# User Name Complete"
   ]
  },
  {
   "cell_type": "code",
   "execution_count": null,
   "metadata": {},
   "outputs": [],
   "source": [
    "username = driver.find_element_by_xpath('//input[@autocomplete=\"username\"]')\n",
    "username.send_keys('jc.skygroupplatinum@gmail.com')"
   ]
  },
  {
   "cell_type": "markdown",
   "metadata": {},
   "source": [
    "# CONTINUE"
   ]
  },
  {
   "cell_type": "code",
   "execution_count": null,
   "metadata": {},
   "outputs": [],
   "source": [
    "next_button = driver.find_element_by_xpath('//div[@role=\"button\"]//span[text()=\"Siguiente\"]')\n",
    "next_button.click()"
   ]
  },
  {
   "cell_type": "markdown",
   "metadata": {},
   "source": [
    "# Password"
   ]
  },
  {
   "cell_type": "code",
   "execution_count": null,
   "metadata": {},
   "outputs": [],
   "source": [
    "password = driver.find_element_by_xpath('//input[@autocomplete=\"current-password\"]')\n",
    "password.send_keys('jc20385796')"
   ]
  },
  {
   "cell_type": "code",
   "execution_count": null,
   "metadata": {},
   "outputs": [],
   "source": [
    "login = driver.find_element_by_xpath('//div[@role=\"button\"]//span[text()=\"Iniciar sesión\"]')\n",
    "login.click()"
   ]
  }
 ],
 "metadata": {
  "interpreter": {
   "hash": "fa2be8f1045bbecc6f1984a81a1ed9f1273aaca1602438214cdaada8d9e22e81"
  },
  "kernelspec": {
   "display_name": "Python 3.9.12 ('DataSciences')",
   "language": "python",
   "name": "python3"
  },
  "language_info": {
   "codemirror_mode": {
    "name": "ipython",
    "version": 3
   },
   "file_extension": ".py",
   "mimetype": "text/x-python",
   "name": "python",
   "nbconvert_exporter": "python",
   "pygments_lexer": "ipython3",
   "version": "3.9.12"
  },
  "orig_nbformat": 4
 },
 "nbformat": 4,
 "nbformat_minor": 2
}
