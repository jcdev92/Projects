{
 "cells": [
  {
   "cell_type": "code",
   "execution_count": null,
   "metadata": {},
   "outputs": [],
   "source": [
    "from selenium import webdriver\n",
    "from selenium.webdriver.chrome.options import Options\n",
    "from selenium.webdriver.common.by import By\n",
    "from selenium.webdriver.support.ui import WebDriverWait\n",
    "from selenium.webdriver.support import expected_conditions as EC\n",
    "import pandas as pd\n",
    "import os\n",
    "import time"
   ]
  },
  {
   "cell_type": "code",
   "execution_count": null,
   "metadata": {},
   "outputs": [],
   "source": [
    "path = '/home/gordo/development/Projects/web_scraping/Selenium_Projects/chromedriver'\n",
    "web = 'https://twitter.com/'"
   ]
  },
  {
   "cell_type": "code",
   "execution_count": null,
   "metadata": {},
   "outputs": [],
   "source": [
    "driver = webdriver.Chrome(path)\n",
    "driver.get(web)\n",
    "driver.maximize_window()"
   ]
  },
  {
   "cell_type": "markdown",
   "metadata": {},
   "source": [
    "# Login Buttom"
   ]
  },
  {
   "cell_type": "code",
   "execution_count": null,
   "metadata": {},
   "outputs": [],
   "source": [
    "login = WebDriverWait(driver, 30).until(EC.presence_of_element_located((By.XPATH, '//a[@href=\"/login\"]')))\n",
    "login.click()"
   ]
  },
  {
   "cell_type": "markdown",
   "metadata": {},
   "source": [
    "# User Name Complete"
   ]
  },
  {
   "cell_type": "code",
   "execution_count": null,
   "metadata": {},
   "outputs": [],
   "source": [
    "username = WebDriverWait(driver, 15).until(EC.presence_of_element_located((By.XPATH, '//input[@autocomplete=\"username\"]')))\n",
    "username.send_keys('@allrealstate')"
   ]
  },
  {
   "cell_type": "markdown",
   "metadata": {},
   "source": [
    "# Next"
   ]
  },
  {
   "cell_type": "code",
   "execution_count": null,
   "metadata": {},
   "outputs": [],
   "source": [
    "next_button = driver.find_element_by_xpath('//div[@role=\"button\"]//span[text()=\"Next\"]')\n",
    "next_button.click()"
   ]
  },
  {
   "cell_type": "markdown",
   "metadata": {},
   "source": [
    "# Password"
   ]
  },
  {
   "cell_type": "code",
   "execution_count": null,
   "metadata": {},
   "outputs": [],
   "source": [
    "# Xpaths Old = //input[@autocomplete=\"on\"]\n",
    "password = WebDriverWait(driver, 15).until(EC.presence_of_element_located((By.XPATH, '//input[@autocomplete=\"current-password\"]')))\n",
    "password.send_keys('jc20385796')"
   ]
  },
  {
   "cell_type": "markdown",
   "metadata": {},
   "source": [
    "# LOG IN"
   ]
  },
  {
   "cell_type": "code",
   "execution_count": null,
   "metadata": {},
   "outputs": [],
   "source": [
    "# Old Xpaths = '//div[@role=\"button\"]//span[text()=\"Next\"]'\n",
    "login = driver.find_element_by_xpath('.//div[@role=\"button\"]//span[text()=\"Log in\"]')\n",
    "login.click()"
   ]
  },
  {
   "cell_type": "markdown",
   "metadata": {},
   "source": [
    "# SEARCH"
   ]
  },
  {
   "cell_type": "code",
   "execution_count": null,
   "metadata": {},
   "outputs": [],
   "source": [
    "search = WebDriverWait(driver, 55).until(EC.presence_of_element_located((By.XPATH, '//input[@aria-autocomplete=\"list\"]')))\n",
    "search.send_keys('criptomonedas')\n",
    "time.sleep(10)"
   ]
  },
  {
   "cell_type": "code",
   "execution_count": null,
   "metadata": {},
   "outputs": [],
   "source": [
    "result = WebDriverWait(driver, 55).until(EC.presence_of_element_located((By.XPATH, '//div[@data-testid=\"typeaheadResult\"]')))\n",
    "result.click()"
   ]
  },
  {
   "cell_type": "markdown",
   "metadata": {},
   "source": [
    "# INFINIT SCROLLING"
   ]
  },
  {
   "cell_type": "code",
   "execution_count": null,
   "metadata": {},
   "outputs": [],
   "source": [
    "def get_tweet(element):\n",
    "    try:\n",
    "        user = element.find_element_by_xpath('.//span[contains(text(),\"@\")]').text \n",
    "        text = element.find_element_by_xpath('.//div[@lang]').text\n",
    "        tweets_data = [user, text]\n",
    "        return tweets_data\n",
    "    except:\n",
    "        tweets_data = ['user', 'data']\n",
    "        return tweets_data"
   ]
  },
  {
   "cell_type": "code",
   "execution_count": null,
   "metadata": {},
   "outputs": [],
   "source": [
    "user_data = []\n",
    "text_data = []\n",
    "tweets_id = set()\n",
    "scrolling = True\n",
    "\n",
    "while scrolling:\n",
    "    tweets = WebDriverWait(driver, 25).until(EC.presence_of_all_elements_located((By.XPATH, '//article[@role=\"article\"]')))\n",
    "    for tweet in tweets[-15:]:\n",
    "        tweet_list = get_tweet(tweet)\n",
    "        tweet_id = \"\".join(tweet_list)\n",
    "        if tweet_id not in tweets_id:\n",
    "            tweets_id.add(tweet_id)\n",
    "        user_data.append(tweet_list[0])\n",
    "        text_data.append(\" \".join(tweet_list[1].split()))\n",
    "\n",
    "    last_height = driver.execute_script(\"return document.body.scrollHeight\")\n",
    "    while True:\n",
    "        driver.execute_script(\"window.scrollTo(0, document.body.scrollHeight);\")\n",
    "        time.sleep(2)\n",
    "        new_height = driver.execute_script(\"return document.body.scrollHeight\")\n",
    "        # ALL PAGES SCRAPE\n",
    "        if new_height == last_height:\n",
    "            scrolling = False\n",
    "            break\n",
    "        # DATA LIMIT (TWEETS) TO SCRAPE\n",
    "        # if len(user_data) > 100:\n",
    "            # scrolling = False\n",
    "            # break\n",
    "        else:\n",
    "            last_height = new_height\n",
    "            break\n",
    "\n"
   ]
  },
  {
   "cell_type": "code",
   "execution_count": null,
   "metadata": {},
   "outputs": [],
   "source": [
    "df_tweets = pd.DataFrame({'User':user_data, 'Tweet':text_data})\n",
    "df_tweets.to_csv('tweets_2.csv', index=False, encoding= 'utf8')"
   ]
  },
  {
   "cell_type": "code",
   "execution_count": null,
   "metadata": {},
   "outputs": [],
   "source": [
    "driver.quit()"
   ]
  }
 ],
 "metadata": {
  "kernelspec": {
   "display_name": "Python 3.9.12 ('DataSciences')",
   "language": "python",
   "name": "python3"
  },
  "language_info": {
   "codemirror_mode": {
    "name": "ipython",
    "version": 3
   },
   "file_extension": ".py",
   "mimetype": "text/x-python",
   "name": "python",
   "nbconvert_exporter": "python",
   "pygments_lexer": "ipython3",
   "version": "3.9.12"
  },
  "orig_nbformat": 4,
  "vscode": {
   "interpreter": {
    "hash": "fa2be8f1045bbecc6f1984a81a1ed9f1273aaca1602438214cdaada8d9e22e81"
   }
  }
 },
 "nbformat": 4,
 "nbformat_minor": 2
}
